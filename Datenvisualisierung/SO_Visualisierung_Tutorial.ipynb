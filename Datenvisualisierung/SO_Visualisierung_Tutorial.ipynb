{
 "cells": [
  {
   "cell_type": "markdown",
   "id": "2uCbpYcWlX0E",
   "metadata": {
    "id": "2uCbpYcWlX0E"
   },
   "source": [
    "## Willkommen beim Workshop DataScience mit Python\n",
    "\n",
    "In diesem Workshop wirst du einen Einblick erhalten in: \n",
    "\n",
    "\n",
    "*   Grundbegriffe wie Variablen, Methoden und Bibliotheken\n",
    "*   Visualisierung und Verarbeitung von Daten\n",
    "*   Gestaltung von Diagrammen mit Python\n",
    "\n",
    "## Lass uns direkt mit den Grundlagen loslegen! \n",
    "\n",
    "### Was ist eine Variable?\n",
    "\n",
    "Variablen dienen zur vorübergehenden Speicherung von Daten. Du kannst sie dir wie eine Box vorstellen in der Dinge aufbewahrt werden. Abgespeichert werden können zum Beispiel:  \n",
    "\n",
    "*   Werte wie Zahlen, Temperaturen oder Zeichenketten\n",
    "*   Ganze Dateien oder Verzeichnisse\n",
    "\n",
    "<img src=\"./tutorial_images/variable_pic.png\" width=30%/>"
   ]
  },
  {
   "cell_type": "markdown",
   "id": "dGcFExZyRUMz",
   "metadata": {
    "id": "dGcFExZyRUMz"
   },
   "source": [
    "### Was ist eine Bibliothek?\n",
    "\n",
    "Eine Bibliothek in der Programmierung ist wie Buch das wir ausleihen, um das Wissen des Buchs für unsere Zwecke zu nutzen. \n",
    "\n",
    "<img src=\"https://cdn.pixabay.com/photo/2013/07/13/12/43/girl-160172_960_720.png\" width=15% height=100% />"
   ]
  },
  {
   "cell_type": "markdown",
   "id": "ASmeMgR3CXvJ",
   "metadata": {
    "id": "ASmeMgR3CXvJ"
   },
   "source": [
    "### Was ist eine Methode? \n",
    "\n",
    "Da wir ein Buch ausgeliehen haben, können wir nun einzelne Kapitel für uns nutzen. Du kannst eine Methode in der Programmierung wie ein Kapitel in einem Buch verstehen. Es gibt die Möglichkeit deine eigenen Methoden zu schreiben, oder, wie wir es tun werden, Methoden (Kapitel) aus Bibliotheken zu nutzen. \n",
    "\n",
    "Methoden tun Dinge für uns und können zum Beispiel unsere Variablen verändern oder mit ihnen arbeiten."
   ]
  },
  {
   "cell_type": "markdown",
   "id": "ynnXsXcu0QY_",
   "metadata": {
    "id": "ynnXsXcu0QY_"
   },
   "source": [
    "## Nun können wir auch schon anfangen zu Programmieren\n",
    "\n",
    "Um mit unseren Datensätzen arbeiten zu können importieren wir nun zunächst zwei Programmbibliotheken.\n",
    "\n",
    "Dies passiert in Python mit dem keyword \"import\". <br>\n",
    "\n",
    "**Matplotlib** ist eine Programmbibliothek die es erlaubt, mathematische Darstellungen aller Art anzufertigen."
   ]
  },
  {
   "cell_type": "code",
   "execution_count": null,
   "id": "sb7jx5dv1UWp",
   "metadata": {
    "id": "sb7jx5dv1UWp"
   },
   "outputs": [],
   "source": [
    "import matplotlib.pyplot as pyplot"
   ]
  },
  {
   "cell_type": "markdown",
   "id": "rAfIiYHb1Y_1",
   "metadata": {
    "id": "rAfIiYHb1Y_1"
   },
   "source": [
    "Als zweite Programmbibliothek importieren wir **pandas**, welche Hilfsmittel für die Verwaltung von Daten und deren Analyse anbietet. Insbesondere enthält sie Datenstrukturen und Operatoren für den Zugriff auf numerische Tabellen und Zeitreihen. "
   ]
  },
  {
   "cell_type": "code",
   "execution_count": null,
   "id": "r8s1tcdM3suB",
   "metadata": {
    "id": "r8s1tcdM3suB"
   },
   "outputs": [],
   "source": [
    "import pandas as pandas"
   ]
  },
  {
   "cell_type": "markdown",
   "id": "k6kC-iYp4Z76",
   "metadata": {
    "id": "k6kC-iYp4Z76"
   },
   "source": [
    "### Einlesen der Datensätze\n",
    "\n",
    "Als Datensätze benutzen wir zwei Datensätze von Stackoverflow. Der eine Datensatz beinhaltet verschiedene Fragen, die sich an ProgrammiererInnen aus aller Welt gerichtet haben. \n",
    "\n",
    "Wie zum Beispiel Fragen zum Thema: Alter, Herkunft, Geschlecht, Gehalt, etc.\n",
    "\n",
    "Der andere Datensatz enhält den Frauenanteil der letzten fünf Jahre.\n",
    "\n"
   ]
  },
  {
   "cell_type": "markdown",
   "id": "iorNFxSi9fxG",
   "metadata": {
    "id": "iorNFxSi9fxG"
   },
   "source": [
    "Nun erstellen wir zwei Variablen, unsere Boxen, für die Datensätze. \n",
    "\n",
    "Diese Variablen sollten unbedingt einen aussagekräftigen Namen haben.\n",
    "\n",
    "Da wir sogenannte DataFrames benutzen, nennen wir unsere Variablen (Boxen) einfach **data_frame1** und **data_frame2**.\n",
    "\n",
    "Die Variablenzuweisung erfolgt durch ein \"=\"."
   ]
  },
  {
   "cell_type": "code",
   "execution_count": null,
   "id": "XU1jDdiW7x9s",
   "metadata": {
    "id": "XU1jDdiW7x9s"
   },
   "outputs": [],
   "source": [
    "data_frame1=pandas.read_csv(\"./stack-overflow-developer-survey-2021/survey_results_public.csv\",index_col=\"ResponseId\")\n",
    "data_frame2=pandas.read_csv(\"./frauenanteil_so.csv\")"
   ]
  },
  {
   "cell_type": "markdown",
   "id": "Nlio3kz9-k5M",
   "metadata": {
    "id": "Nlio3kz9-k5M"
   },
   "source": [
    "### Aber was ist eigentlich ein DataFrame?\n",
    "\n",
    "Die grundlegende Idee von DataFrame basiert auf Tabellen. Wir können die Daten-Struktur eines DataFrame als tabellarisch und tabellenähnlich sehen. Ein Dataframe beinhaltet eine geordnete Sammlung von Spalten. Jede Spalte besteht aus einem eindeutigen Daten-Typen, aber verschiedene Spalten haben verschiedene Typen. <br>\n",
    "\n",
    "Zu dem Namen wird dann zugeordnet welcher Datensatz das sein soll. Hierfür rufst du die Funktion \"pandas.read_csv()\" auf. In die Klammern kommt dann der Dateipfad deines Datensatzes."
   ]
  },
  {
   "cell_type": "markdown",
   "id": "pJjzUzEL8dQM",
   "metadata": {
    "id": "pJjzUzEL8dQM"
   },
   "source": [
    "### Zusammengefasst ergibt sich:"
   ]
  },
  {
   "cell_type": "code",
   "execution_count": 2,
   "id": "6b384234",
   "metadata": {
    "id": "6b384234"
   },
   "outputs": [],
   "source": [
    "import matplotlib.pyplot as pyplot\n",
    "import pandas as pandas\n",
    "data_frame1=pandas.read_csv(\"./stack-overflow-developer-survey-2021/survey_results_public.csv\",index_col=\"ResponseId\")\n",
    "data_frame2=pandas.read_csv(\"./frauenanteil_so.csv\")"
   ]
  },
  {
   "cell_type": "markdown",
   "id": "8b20f682",
   "metadata": {
    "id": "8b20f682"
   },
   "source": [
    "### Nun wollen wir endlich etwas sehen!\n",
    "\n",
    "Glücklichweise geht das ganz einfach mit einer Methode aus unserer importierten Bibliothek. \n",
    "\n",
    "**head()**\n",
    "\n",
    "Mit der Funktion head() kannst du dir die ersten Zeilen aus dem Datensatz anzeigen lassen.\n",
    "\n",
    "Probiere das doch mal für den Datensatz frauenanteil_so.csv (die Variable data_frame2) aus!"
   ]
  },
  {
   "cell_type": "code",
   "execution_count": null,
   "id": "1b2ef94c",
   "metadata": {
    "id": "1b2ef94c",
    "outputId": "66aaa35c-e77a-4e1e-fb5e-ad808bb4eda4"
   },
   "outputs": [],
   "source": [
    "data_frame2.head()"
   ]
  },
  {
   "cell_type": "markdown",
   "id": "BXYR_RGdEbVt",
   "metadata": {
    "id": "BXYR_RGdEbVt"
   },
   "source": [
    "Nun siehst du die ersten fünf Datensätze unseres DataFrames.\n",
    "\n",
    "Schreib doch mal in die Klammer eine Zahl zwischen 1 und 5 und schau was passiert 😉"
   ]
  },
  {
   "cell_type": "markdown",
   "id": "4bd508ca",
   "metadata": {
    "id": "4bd508ca"
   },
   "source": [
    "# Eine Tabelle ist nicht ganz so spannend\n",
    "\n",
    "## Wie können wir unsere Daten jetzt noch schöner darstellen?\n",
    "\n",
    "Für unseren doch recht kleinen Datensatz eignet sich zum Beispiel ein Balkendiagramm.\n",
    "\n",
    "Vorüberlegung wie wir das Balkendiagram gestalten wollen: \n",
    "\n",
    "*   Jahre: horizontale Achse\n",
    "*   Prozentualer Anteil: vertikale Achse \n",
    "\n",
    "Nun bestimmen wir eine Variable (grouped_data) und weisen ihr den entsprechenden Datensatz zu. "
   ]
  },
  {
   "cell_type": "code",
   "execution_count": null,
   "id": "OYSHanBgHpyw",
   "metadata": {
    "id": "OYSHanBgHpyw"
   },
   "outputs": [],
   "source": [
    "grouped_data=data_frame2.groupby(['Jahr']).Prozent.sum()"
   ]
  },
  {
   "cell_type": "markdown",
   "id": "2-A5wo-tHqd0",
   "metadata": {
    "id": "2-A5wo-tHqd0"
   },
   "source": [
    "Mit \"groupby\" geben wir an, nach was das Diagramm sortiert sein soll (horizontale Achse). \n",
    "\n",
    "Die Methode **sum()** summiert alle Prozentzahlen eines Jahrs.\n",
    "\n",
    "\n"
   ]
  },
  {
   "cell_type": "markdown",
   "id": "2n3thZnRLOqv",
   "metadata": {
    "id": "2n3thZnRLOqv"
   },
   "source": [
    "### Zuletzt kümmern wir uns um das Diagrammdesign:\n",
    "\n",
    "Wir rufen die \"plot\"-Methode für die Variable auf und darin übergeben wir, welche Art Diagramm wir haben möchten ('bar'). <br>\n",
    "\n",
    "\n",
    "Farben können wir auch auswählen. Hier kannst du gern ein wenig rumspielen (per default (=wenn du keine Farbwerte ausgewählt hast) ist die Farbe einheitlich blau)."
   ]
  },
  {
   "cell_type": "code",
   "execution_count": null,
   "id": "581bc8f6",
   "metadata": {
    "id": "581bc8f6",
    "outputId": "9515733f-5735-4971-a1ab-695f9f41c2c2"
   },
   "outputs": [],
   "source": [
    "grouped_data=data_frame2.groupby(['Jahr']).Prozent.sum()\n",
    "my_colors=['b', 'r', 'c', 'y', 'g', 'm']\n",
    "grouped_data.plot(kind='bar', color=my_colors, ylabel='Anteil in Prozent', title='Frauenanteil im Laufe der Jahre')\n",
    "pyplot.show()"
   ]
  },
  {
   "cell_type": "markdown",
   "id": "GgVJZFn9NOgL",
   "metadata": {
    "id": "GgVJZFn9NOgL"
   },
   "source": [
    "## Fragst du dich: Wozu das Ganze???\n",
    "\n",
    "### Lohnt es sich wirklich programmieren zu lernen?\n",
    "\n",
    "![Alt text](https://www.animierte-gifs.net/data/media/1512/animiertes-dagobert-duck-bild-0054.gif)\n",
    "\n",
    "#### Lass uns nun ein Diagramm zu den Gehältern in der IT Branche erstellen."
   ]
  },
  {
   "cell_type": "markdown",
   "id": "8b5e7a29",
   "metadata": {
    "id": "8b5e7a29"
   },
   "source": [
    "Für dieses Diagramm nutzen wir nun den Datensatz, den wir in der Variable **data_frame1** gespeichert haben.\n",
    "\n",
    "Den schauen wir uns jetzt zunächst einmal an!"
   ]
  },
  {
   "cell_type": "markdown",
   "id": "baa2af4e",
   "metadata": {
    "id": "baa2af4e"
   },
   "source": [
    "Schaue doch mal wie wir uns die ersten paar Zeilen eines DataFrames im allerersten Beispiel ausgegeben haben lassen."
   ]
  },
  {
   "cell_type": "code",
   "execution_count": null,
   "id": "f1eb68d0",
   "metadata": {
    "id": "f1eb68d0"
   },
   "outputs": [],
   "source": [
    "data_frame1.head()"
   ]
  },
  {
   "cell_type": "markdown",
   "id": "f69bff33",
   "metadata": {
    "id": "f69bff33"
   },
   "source": [
    "Du merkst schon: der Datensatz ist sehr groß!\n",
    "\n",
    "Lass uns nun alle Spalten des Datensatzes ausgeben. Dies funktioniert mit:"
   ]
  },
  {
   "cell_type": "code",
   "execution_count": null,
   "id": "c78dd76c",
   "metadata": {
    "id": "c78dd76c",
    "outputId": "59afa66c-318d-473a-c640-a11f50ce5d21"
   },
   "outputs": [],
   "source": [
    "data_frame1.info()"
   ]
  },
  {
   "cell_type": "markdown",
   "id": "e174f390",
   "metadata": {
    "id": "e174f390"
   },
   "source": [
    "## Liniendiagramm"
   ]
  },
  {
   "cell_type": "markdown",
   "id": "2da98980",
   "metadata": {
    "id": "2da98980"
   },
   "source": [
    "Da wir uns nur die Gehälter anschauen möchten, brauchen wir Spalte 46 (**ConvertedCompYearly**). <br>\n",
    "Das speichern wir direkt in einer neuen Variable: **salary** ab."
   ]
  },
  {
   "cell_type": "code",
   "execution_count": null,
   "id": "11dcee12",
   "metadata": {
    "id": "11dcee12"
   },
   "outputs": [],
   "source": [
    "salary=data_frame1.ConvertedCompYearly"
   ]
  },
  {
   "cell_type": "markdown",
   "id": "f525fbe6",
   "metadata": {
    "id": "f525fbe6"
   },
   "source": [
    "Für bessere Übersicht erstellen wir uns jetzt einen neuen DataFrame **new_data_frame**.\n",
    "\n",
    "In diesen neuen DataFrame speichern wir salary und wenden die Funktion **sort_values** an, um den DataFrame nach **ConvertedCompYearly** zu sortieren."
   ]
  },
  {
   "cell_type": "code",
   "execution_count": null,
   "id": "589d4fd0",
   "metadata": {
    "id": "589d4fd0"
   },
   "outputs": [],
   "source": [
    "new_data_frame=pandas.DataFrame(salary).sort_values(by='ConvertedCompYearly')"
   ]
  },
  {
   "cell_type": "markdown",
   "id": "857058df",
   "metadata": {
    "id": "857058df"
   },
   "source": [
    "Da es in dem Datensatz viele nicht-verwendbare Einträge gibt, müssen wir erstmal aufräumen (Datenbereinigung).\n",
    "\n",
    "![Alt text](https://media.giphy.com/media/LwHkZcEhYZYFhDrh8X/giphy.gif)"
   ]
  },
  {
   "cell_type": "markdown",
   "id": "6bdeeb41",
   "metadata": {
    "id": "6bdeeb41"
   },
   "source": [
    "Dies passiert mit der Funktion **dropna()**. **dropna()** entfernt sogenannte **NaN**-Werte, was für \"Not a number\" steht und mit diesen Werten können wir gerade nichts anfangen."
   ]
  },
  {
   "cell_type": "code",
   "execution_count": null,
   "id": "f93e66d6",
   "metadata": {
    "id": "f93e66d6"
   },
   "outputs": [],
   "source": [
    "new_data_frame=new_data_frame.dropna()"
   ]
  },
  {
   "cell_type": "markdown",
   "id": "Hy_JguqrUBIg",
   "metadata": {
    "id": "Hy_JguqrUBIg"
   },
   "source": [
    "Weil Ordnung das halbe Leben ist, sortieren wir unsere Daten noch der Größe nach mit **sort_values**."
   ]
  },
  {
   "cell_type": "code",
   "execution_count": null,
   "id": "HjaAJ5ufUl2u",
   "metadata": {
    "id": "HjaAJ5ufUl2u"
   },
   "outputs": [],
   "source": [
    "new_data_frame=pandas.DataFrame(comp).sort_values(by='ConvertedCompYearly')"
   ]
  },
  {
   "cell_type": "markdown",
   "id": "TCmtVFLBWLt-",
   "metadata": {
    "id": "TCmtVFLBWLt-"
   },
   "source": [
    "Die NaN-Werte sind jetzt zwar entfernt aber der zu den Daten zugehörige Index ist noch vorhanden. Um die gerade \"leeren\" und für uns störenden Indizes loszuwerden, bereinigen wir dieses Problem mit **reset_index**. "
   ]
  },
  {
   "cell_type": "code",
   "execution_count": null,
   "id": "UsIkAhI5XEW1",
   "metadata": {
    "id": "UsIkAhI5XEW1"
   },
   "outputs": [],
   "source": [
    "new_data_frame=new_data_frame.reset_index(drop = True)"
   ]
  },
  {
   "cell_type": "markdown",
   "id": "lMAT10HPXPQ9",
   "metadata": {
    "id": "lMAT10HPXPQ9"
   },
   "source": [
    "Als letzten Datenbereinigunsschritt werden wir noch die ersten und letzten 2000 Daten abschneiden um extreme \"Auswüchse\" zu entfernen."
   ]
  },
  {
   "cell_type": "code",
   "execution_count": null,
   "id": "L1AZA1z_YNSO",
   "metadata": {
    "id": "L1AZA1z_YNSO"
   },
   "outputs": [],
   "source": [
    "new_data_frame=new_data_frame.drop(new_data_frame.tail(2000).index)\n",
    "new_data_frame=new_data_frame.drop(new_data_frame.head(2000).index)"
   ]
  },
  {
   "cell_type": "markdown",
   "id": "fa512ad1",
   "metadata": {
    "id": "fa512ad1"
   },
   "source": [
    "![Alt text](https://media.giphy.com/media/XeeUDlRgrsSA8kUsvI/giphy.gif)"
   ]
  },
  {
   "cell_type": "markdown",
   "id": "f041efd5",
   "metadata": {
    "id": "f041efd5"
   },
   "source": [
    "Wie beim oberen Balkendiagramm kommt jetzt noch die **plot**-Methode um den Graphen erstellen zu lassen. Etwas Farbe fehlt noch und natürlich die Beschriftung der Achsen.\n",
    "\n"
   ]
  },
  {
   "cell_type": "code",
   "execution_count": null,
   "id": "A7DEjjNpZGKB",
   "metadata": {
    "id": "A7DEjjNpZGKB"
   },
   "outputs": [],
   "source": [
    "new_data_frame.plot(xlabel='Index', ylabel='Gehalt in Dollar', color='green')"
   ]
  },
  {
   "cell_type": "markdown",
   "id": "5rZSCBU6ZKR9",
   "metadata": {
    "id": "5rZSCBU6ZKR9"
   },
   "source": [
    "### All in all:"
   ]
  },
  {
   "cell_type": "code",
   "execution_count": null,
   "id": "4a54cb87",
   "metadata": {
    "id": "4a54cb87",
    "outputId": "7efbb1b4-0b5f-4f18-ecdb-11dbe15eb2f5"
   },
   "outputs": [],
   "source": [
    "# Get col of a dataframe\n",
    "salary=data_frame1.ConvertedCompYearly\n",
    "new_data_frame=pandas.DataFrame(salary).sort_values(by='ConvertedCompYearly')\n",
    "new_data_frame=new_data_frame.dropna()\n",
    "new_data_frame=new_data_frame.reset_index(drop = True)\n",
    "\n",
    "#Die oberen und unteren ca 5% werden abgeschnitten um eine aussagekräftigere Kurve zu erhalten.\n",
    "new_data_frame=new_data_frame.drop(new_data_frame.tail(2000).index)\n",
    "new_data_frame=new_data_frame.drop(new_data_frame.tail(2000).index)\n",
    "\n",
    "new_data_frame.plot(xlabel='Index', ylabel='Gehalt in Dollar', color='green')\n",
    "pyplot.show()"
   ]
  },
  {
   "cell_type": "markdown",
   "id": "ED2VI0hqc-YV",
   "metadata": {
    "id": "ED2VI0hqc-YV"
   },
   "source": [
    "Der große Datensatz beinhaltet noch viele andere spannende Daten z.B in welchen Bereichen ITler*innen arbeiten. Wir lernen jetzt, wie wir diese Daten in einem Kreisdiagramm darstellen können."
   ]
  },
  {
   "cell_type": "markdown",
   "id": "J8zEWw1Y0_Sf",
   "metadata": {
    "id": "J8zEWw1Y0_Sf"
   },
   "source": [
    "### Kreisdiagramm\n",
    "\n",
    "Unsere neue Variable befüllen wir mit einem DataFrame. Vorher sortieren wir den DataFrame nach \"DevType\" also der Art von EntwicklerIn. \n",
    "\n",
    "Mit **value_counts()** und **to_frame()** werden schließlch die Werte aufsummiert. Da unsere Daten bei der Methode **value_counts()** in ein anderes Datenformat gespeichert werden müssen sie mit der Methode **to_frame()** zurück in ein DataFrame umgewandelt werden. "
   ]
  },
  {
   "cell_type": "code",
   "execution_count": null,
   "id": "qJ3HXmCG1C5Y",
   "metadata": {
    "id": "qJ3HXmCG1C5Y"
   },
   "outputs": [],
   "source": [
    "developer_type=data_frame1[\"DevType\"].value_counts().to_frame()"
   ]
  },
  {
   "cell_type": "markdown",
   "id": "c7dGW5Va1GSv",
   "metadata": {
    "id": "c7dGW5Va1GSv"
   },
   "source": [
    "Wir verwenden nun wieder die Methode **plot()**-Methode zusammen mit der **pie()**-Methode um dieses Mal statt einem Säulendiagramm ein Kuchendiagramm zu zeichnen. "
   ]
  },
  {
   "cell_type": "code",
   "execution_count": null,
   "id": "aSPZ001T2b0Y",
   "metadata": {
    "id": "aSPZ001T2b0Y"
   },
   "outputs": [],
   "source": [
    "dev_type[:6].plot.pie(subplots=True, legend=False)"
   ]
  },
  {
   "cell_type": "markdown",
   "id": "2qM_2Hym2hQ5",
   "metadata": {
    "id": "2qM_2Hym2hQ5"
   },
   "source": [
    "Wir wollen zunächst 6 verschiedene Kategorien von EntwicklerInnen in unserem Diagramm darstellen. Diese beinhalten vier verschiede Grundtypen von EntwicklerInnen: \n",
    "\n",
    "*   front-end (Design und Nutzerbedienung)\n",
    "*   back-end (Datenbanken, Server, etc.)\n",
    "*   mobile (Apps-Entwicklung, etc.)\n",
    "*   full-stack (Eine EntwicklerIn, die sowohl Front-end als auch Back-end entwickelt.)\n",
    "\n",
    "Die Einstellungen **subplots=True** und **legend=False** sind default-Werte für unser gewünschtes Ergebnis.\n",
    "\n",
    "**pyplot.ylabel('')** sagt lediglich aus, dass wir keine weitere Beschriftung unseres Diagramms haben möchten."
   ]
  },
  {
   "cell_type": "code",
   "execution_count": null,
   "id": "e7374c2c",
   "metadata": {
    "id": "e7374c2c",
    "outputId": "a865dc47-b905-4d1d-d6b4-1d25452a93ba"
   },
   "outputs": [],
   "source": [
    "developer_type=data_frame1[\"DevType\"].value_counts().to_frame()\n",
    "#developer_type[:6].plot(kind='bar')\n",
    "developer_type[:6].plot.pie(subplots=True,legend=False)\n",
    "pyplot.ylabel('')\n",
    "pyplot.show()"
   ]
  },
  {
   "cell_type": "markdown",
   "id": "3712d098",
   "metadata": {},
   "source": [
    "Versuche jetzt doch mal das **#** am Anfang der zweiten Zeile zu löschen und stattdessen eins in der dritten Zeile zu setzen. <br>\n",
    "Mit einem **#** kannst du Text in Python zu einem Kommentar machen.<br>\n",
    "Das bedeutet, dein Programm weiß, dass es sich bei deinem Text nicht um Code sondern lediglich um Text handelt.\n",
    "\n",
    "Führe den Code aus. Was passiert?"
   ]
  },
  {
   "cell_type": "markdown",
   "id": "u3iHT_YK9yUR",
   "metadata": {
    "id": "u3iHT_YK9yUR"
   },
   "source": [
    "## Bisher haben wir alles in Python gemacht\n",
    "\n",
    "Wie du bestimmt weißt, gibt es noch zahlreiche, andere Programmiersprachen. \n",
    "Im Gegensatz zu normalen Sprachen wie Englisch und Deutsch gibt es bei Programmiersprachen stetig neue Sprachen und Sprachen die im Trend sind. \n",
    "\n",
    "Python, die Sprache, die du gerade kennenlernst, ist momentan der Renner!\n",
    "\n",
    "\n",
    "![Alt text](https://media.giphy.com/media/VeyCyriTsxn3i/giphy.gif)\n",
    "\n",
    "In unserem nächsten Diagramm schauen wir uns an, welche Sprachen aktuell (2021) am häufigsten genutzt werden. "
   ]
  },
  {
   "cell_type": "markdown",
   "id": "3KKfzPO6BiBj",
   "metadata": {
    "id": "3KKfzPO6BiBj"
   },
   "source": [
    "Wie wir das bereits aus dem vorherigen Beispiel kennen, brauchen wir wieder eine Variable (**languages**). \n",
    "\n",
    "Nun tauschen wir lediglich die Kategorie aus nach der wir unsere Werte aufsummieren (**LanguageHaveWorkedWith**). "
   ]
  },
  {
   "cell_type": "code",
   "execution_count": null,
   "id": "b8595712",
   "metadata": {
    "id": "b8595712",
    "outputId": "e3a04ad4-c1a9-4a9c-9c69-169334b3a4d6",
    "scrolled": true
   },
   "outputs": [],
   "source": [
    "languages=data_frame1['LanguageHaveWorkedWith'].value_counts().to_frame()\n",
    "languages[:6].plot.pie(subplots=True,legend=False)\n",
    "pyplot.ylabel('')\n",
    "pyplot.show()"
   ]
  },
  {
   "cell_type": "markdown",
   "id": "se70OILEFkE7",
   "metadata": {
    "id": "se70OILEFkE7"
   },
   "source": [
    "## Wie wichtig ist es das mehr Frauen Informatik studieren?\n",
    "\n",
    "### A: Sehr wichtig\n",
    "### B: Mega wichtig\n",
    "\n",
    "![Alt text](https://media.giphy.com/media/kKKxPTD3E96sqq26O0/giphy.gif)\n",
    "\n",
    "#### Da wir das nun geklärt haben:\n",
    "\n",
    "Lass uns nun ein Diagramm erstellen, indem wir die Gehälter von Männern und Frauen in der Informatik vergleichen. \n",
    "\n",
    "Dieses Diagramm eignet sich auch gut für andere Gegenüberstellungen von Datensätzen mit zwei unterschiedlichen Kategorien."
   ]
  },
  {
   "cell_type": "markdown",
   "id": "b9593cb9",
   "metadata": {
    "id": "b9593cb9"
   },
   "source": [
    "# Schablone\n"
   ]
  },
  {
   "cell_type": "markdown",
   "id": "9A4qFtJdOLmo",
   "metadata": {
    "id": "9A4qFtJdOLmo"
   },
   "source": [
    "Wir beginnen wieder mit dem bereits bekannten Prinzip der Definition von zwei Variablen. \n",
    "\n",
    "Da wir in unserem Fall den Mittelwert der Gehälter beider Geschlechter gegenüberstellen wollen, nennen wir die Variablen einfach:\n",
    "\n",
    "**mean_man** und **mean_women**\n",
    "\n",
    "Wir nehmen uns nun wieder den ersten DataFrame zu Hand und suchen in diesem jeweils alle Spalten raus, wo das Geschlecht als **Man** angegeben ist. Davon nehmen wir dann die Spalte **ConvertedCompYearly** und wenden schließlich die Methode **mean()** an um den Mittelwert zu berechnen. "
   ]
  },
  {
   "cell_type": "code",
   "execution_count": null,
   "id": "SxR4mrUMSS7y",
   "metadata": {
    "id": "SxR4mrUMSS7y"
   },
   "outputs": [],
   "source": [
    "mean_man = data_frame1[data_frame1['Gender']=='Man'].ConvertedCompYearly.mean()"
   ]
  },
  {
   "cell_type": "markdown",
   "id": "7bWhRQHUSVVt",
   "metadata": {
    "id": "7bWhRQHUSVVt"
   },
   "source": [
    "Das selbe führen wir nun auch für die Spalte aus, in der das Geschlecht als **Woman** angegeben wurde:"
   ]
  },
  {
   "cell_type": "code",
   "execution_count": null,
   "id": "gYG8SrUjSfJz",
   "metadata": {
    "id": "gYG8SrUjSfJz"
   },
   "outputs": [],
   "source": [
    "mean_woman = data_frame1[data_frame1['Gender']=='Woman'].ConvertedCompYearly.mean()"
   ]
  },
  {
   "cell_type": "markdown",
   "id": "PdTUA66GShsO",
   "metadata": {
    "id": "PdTUA66GShsO"
   },
   "source": [
    "Da wir nun unsere beiden Variablen befüllt haben, erstellen wir nun einen neuen DataFrame, dem wir unsere beiden Variablen übergeben.\n",
    "\n",
    "Außerdem weisen wir unseren beiden Variablen im DataFrame zwei Beschriftungen mit **index=['Male', 'Female']** zu. \n",
    "\n",
    "Zuletzt zeichnen wir mit der Methode **plot()** unser Diagramm.\n",
    "\n",
    "Als Typ verwenden wir hier wieder **'bar'**."
   ]
  },
  {
   "cell_type": "code",
   "execution_count": null,
   "id": "74b1e544",
   "metadata": {
    "id": "74b1e544",
    "outputId": "2f15e816-e548-4b0a-e196-fe07a38574f0"
   },
   "outputs": [],
   "source": [
    "mean_man = data_frame1[data_frame1['Gender']=='Man'].ConvertedCompYearly.mean()\n",
    "mean_woman = data_frame1[data_frame1['Gender']=='Woman'].ConvertedCompYearly.mean()\n",
    "mwmean = pandas.DataFrame(\n",
    "    {\n",
    "    'Mean Income': [mean_man, mean_woman]\n",
    "    }, index=['Male', 'Female']\n",
    ")\n",
    "mwmean.plot(kind='bar')\n",
    "pyplot.show()"
   ]
  },
  {
   "cell_type": "markdown",
   "id": "c7af5ebb",
   "metadata": {},
   "source": [
    "### **Herzlichen Glückwunsch**, du hast gewonnen und zwar eine wohlverdiente Pause!\n",
    "![Alt text](https://media.giphy.com/media/muCo9BLS7vjErTON27/giphy.gif)"
   ]
  }
 ],
 "metadata": {
  "colab": {
   "collapsed_sections": [],
   "name": "SO_Visualisierung_Tutorial.ipynb",
   "provenance": []
  },
  "kernelspec": {
   "display_name": "Python 3 (ipykernel)",
   "language": "python",
   "name": "python3"
  },
  "language_info": {
   "codemirror_mode": {
    "name": "ipython",
    "version": 3
   },
   "file_extension": ".py",
   "mimetype": "text/x-python",
   "name": "python",
   "nbconvert_exporter": "python",
   "pygments_lexer": "ipython3",
   "version": "3.8.10"
  }
 },
 "nbformat": 4,
 "nbformat_minor": 5
}
