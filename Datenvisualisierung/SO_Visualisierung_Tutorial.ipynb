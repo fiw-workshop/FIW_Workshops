{
 "cells": [
  {
   "cell_type": "markdown",
   "id": "2uCbpYcWlX0E",
   "metadata": {
    "id": "2uCbpYcWlX0E"
   },
   "source": [
    "## Willkommen beim Workshop 'DataScience mit Python'\n",
    "\n",
    "In diesem Workshop wirst du einen Einblick erhalten in: \n",
    "\n",
    "\n",
    "*   Grundbegriffe, wie Variablen, Methoden und Bibliotheken\n",
    "*   Visualisierung und Verarbeitung von Daten\n",
    "*   Gestaltung von Diagrammen mit Python\n",
    "\n",
    "## Lass uns direkt mit den Grundlagen loslegen! \n",
    "\n",
    "### Was ist eine Variable?\n",
    "\n",
    "Variablen dienen der vorübergehenden Speicherung von Daten. Du kannst sie dir wie eine Box vorstellen in der Dinge aufbewahrt werden. Abgespeichert werden können beispielsweise:  \n",
    "\n",
    "*   Werte, wie Zahlen, Temperaturen oder Zeichenketten\n",
    "*   Ganze Dateien oder Verzeichnisse\n",
    "\n",
    "<img src=\"./tutorial_images/variable_pic.png\" width=30%/>"
   ]
  },
  {
   "cell_type": "markdown",
   "id": "dGcFExZyRUMz",
   "metadata": {
    "id": "dGcFExZyRUMz"
   },
   "source": [
    "### Was ist eine Bibliothek?\n",
    "\n",
    "Eine Bibliothek in der Programmierung ist wie ein Buch das wir ausleihen, um das darin enthaltene Wissen für unsere Zwecke zu nutzen. \n",
    "\n",
    "<img src=\"https://cdn.pixabay.com/photo/2013/07/13/12/43/girl-160172_960_720.png\" width=15% height=100% />"
   ]
  },
  {
   "cell_type": "markdown",
   "id": "ASmeMgR3CXvJ",
   "metadata": {
    "id": "ASmeMgR3CXvJ"
   },
   "source": [
    "### Was ist eine Methode? \n",
    "\n",
    "Da wir ein Buch ausgeliehen haben, können wir einzelne Kapitel für uns nutzen. Du kannst dir eine Methode in der Programmierung wie ein Kapitel in einem Buch vorstellen. Es gibt die Möglichkeit, deine eigenen Methoden zu schreiben oder wie wir es tun werden, Methoden (Kapitel) aus Bibliotheken zu nutzen. \n",
    "\n",
    "Methoden tun Dinge für uns und können zum Beispiel unsere Variablen verändern oder mit ihnen arbeiten."
   ]
  },
  {
   "cell_type": "markdown",
   "id": "ynnXsXcu0QY_",
   "metadata": {
    "id": "ynnXsXcu0QY_"
   },
   "source": [
    "## Nun können wir auch schon anfangen zu Programmieren\n",
    "\n",
    "Um mit unseren Datensätzen arbeiten zu können, importieren wir zunächst zwei Programmbibliotheken.\n",
    "\n",
    "Wir importieren sie direkt in eine neue Codezelle.\n",
    "\n",
    "Dies passiert in Python mit dem keyword \"import\". <br>\n",
    "\n",
    "**Matplotlib** ist eine Programmbibliothek die es erlaubt, mathematische Darstellungen aller Art anzufertigen.\n",
    "\n",
    "Um beim Aufruf einer Funktion aus dieser Bibliothekt nicht immer den ganzen Namen der Bibliothek angeben zu müssen, weisen wir dieser einen neuen Namen zu. Dafür nutzen wir **as**."
   ]
  },
  {
   "cell_type": "code",
   "execution_count": 4,
   "id": "sb7jx5dv1UWp",
   "metadata": {
    "id": "sb7jx5dv1UWp"
   },
   "outputs": [],
   "source": [
    "import matplotlib.pyplot as pyplot"
   ]
  },
  {
   "cell_type": "markdown",
   "id": "rAfIiYHb1Y_1",
   "metadata": {
    "id": "rAfIiYHb1Y_1"
   },
   "source": [
    "Als zweite Programmbibliothek importieren wir **pandas**, welche Hilfsmittel für die Verwaltung von Daten und deren Analyse anbietet. Insbesondere enthält sie Datenstrukturen und Operatoren für den Zugriff auf numerische Tabellen und Zeitreihen. "
   ]
  },
  {
   "cell_type": "code",
   "execution_count": 5,
   "id": "r8s1tcdM3suB",
   "metadata": {
    "id": "r8s1tcdM3suB"
   },
   "outputs": [],
   "source": [
    "import pandas "
   ]
  },
  {
   "cell_type": "markdown",
   "id": "k6kC-iYp4Z76",
   "metadata": {
    "id": "k6kC-iYp4Z76"
   },
   "source": [
    "### Einlesen der Datensätze\n",
    "\n",
    "Als Datensätze benutzen wir zwei Datensätze. Der eine Datensatz ist der aktuelle (2021) von Stackoverflow und beinhaltet verschiedene Fragen, die sich an ProgrammiererInnen aus aller Welt gerichtet haben. \n",
    "\n",
    "Wie zum Beispiel Fragen zum Thema: Alter, Herkunft, Geschlecht, Gehalt, etc.\n",
    "\n",
    "Der zweite Datensatz wurde aus den 5 letzten Datensätzen von Stackoverflow erstellt und beinhaltet den Frauenanteil der letzten 5 Jahre.\n",
    "\n",
    "Du findest die Datensätze in der Lernumgebung. Lade sie herunter und lege sie in deinem 'GirljustdoIT' Ordner ab.\n"
   ]
  },
  {
   "cell_type": "markdown",
   "id": "iorNFxSi9fxG",
   "metadata": {
    "id": "iorNFxSi9fxG"
   },
   "source": [
    "Nun erstellen wir zwei Variablen, unsere Boxen, für die Datensätze. \n",
    "\n",
    "Diese Variablen sollten unbedingt einen aussagekräftigen Namen haben.\n",
    "\n",
    "Da wir sogenannte DataFrames benutzen, nennen wir unsere Variablen (Boxen) einfach **data_frame1** und **data_frame2**.\n",
    "\n",
    "Die Variablenzuweisung erfolgt durch ein \"=\".\n",
    "\n",
    "Zu dem Namen wird dann zugeordnet welcher Datensatz das sein soll. Hierfür rufst du die Funktion \"pandas.read_csv()\" auf. In die Klammern kommt dann der Dateipfad deines Datensatzes. Da DataFrames automatisch durchnummeriert werden (Indizes) und unser erster Datensatz bereits eine eigene Nummerierung hat (ResponseId), möchten wir eine doppelte Nummerierung vermeiden und legen fest, dass die vorhandene Nummerierung die automatische ersetzt.\n"
   ]
  },
  {
   "cell_type": "code",
   "execution_count": 6,
   "id": "XU1jDdiW7x9s",
   "metadata": {
    "id": "XU1jDdiW7x9s"
   },
   "outputs": [],
   "source": [
    "data_frame1=pandas.read_csv(\"./stack-overflow-developer-survey-2021/survey_results_public.csv\",index_col=\"ResponseId\")\n",
    "data_frame2=pandas.read_csv(\"./frauenanteil_so.csv\")"
   ]
  },
  {
   "cell_type": "markdown",
   "id": "Nlio3kz9-k5M",
   "metadata": {
    "id": "Nlio3kz9-k5M"
   },
   "source": [
    "### Aber was ist eigentlich ein DataFrame?\n",
    "\n",
    "Die grundlegende Idee von DataFrames basiert auf Tabellen. Wir können die Daten-Struktur eines DataFrames als tabellarisch und tabellenähnlich ansehen. Ein DataFrame beinhaltet eine geordnete Sammlung von Spalten. Jede Spalte besteht aus einem eindeutigen Datentypen aber verschiedene Spalten haben verschiedene Typen. <br>\n"
   ]
  },
  {
   "cell_type": "markdown",
   "id": "pJjzUzEL8dQM",
   "metadata": {
    "id": "pJjzUzEL8dQM"
   },
   "source": [
    "### Zusammengefasst ergibt sich:"
   ]
  },
  {
   "cell_type": "code",
   "execution_count": 7,
   "id": "6b384234",
   "metadata": {
    "id": "6b384234"
   },
   "outputs": [],
   "source": [
    "import matplotlib.pyplot as pyplot\n",
    "import pandas as pandas\n",
    "data_frame1=pandas.read_csv(\"./stack-overflow-developer-survey-2021/survey_results_public.csv\",index_col=\"ResponseId\")\n",
    "data_frame2=pandas.read_csv(\"./frauenanteil_so.csv\")"
   ]
  },
  {
   "cell_type": "markdown",
   "id": "394e27c1",
   "metadata": {},
   "source": [
    "Mit einem Klick auf den Run Button wird der Code ausgeführt. "
   ]
  },
  {
   "cell_type": "markdown",
   "id": "8b20f682",
   "metadata": {
    "id": "8b20f682"
   },
   "source": [
    "### Jetzt wollen wir endlich etwas sehen!\n",
    "\n",
    "Glücklicher Weise geht das ganz einfach mit einer Methode aus unserer importierten Bibliothek. \n",
    "\n",
    "**head()**\n",
    "\n",
    "Mit der Funktion head() kannst du dir die ersten Zeilen aus dem Datensatz anzeigen lassen.\n",
    "\n",
    "Probiere das doch mal für den Datensatz frauenanteil_so.csv (die Variable data_frame2) aus!"
   ]
  },
  {
   "cell_type": "code",
   "execution_count": 8,
   "id": "1b2ef94c",
   "metadata": {
    "id": "1b2ef94c"
   },
   "outputs": [
    {
     "data": {
      "text/html": [
       "<div>\n",
       "<style scoped>\n",
       "    .dataframe tbody tr th:only-of-type {\n",
       "        vertical-align: middle;\n",
       "    }\n",
       "\n",
       "    .dataframe tbody tr th {\n",
       "        vertical-align: top;\n",
       "    }\n",
       "\n",
       "    .dataframe thead th {\n",
       "        text-align: right;\n",
       "    }\n",
       "</style>\n",
       "<table border=\"1\" class=\"dataframe\">\n",
       "  <thead>\n",
       "    <tr style=\"text-align: right;\">\n",
       "      <th></th>\n",
       "      <th>Jahr</th>\n",
       "      <th>Frauen</th>\n",
       "      <th>Gesamtzahl</th>\n",
       "      <th>Prozent</th>\n",
       "    </tr>\n",
       "  </thead>\n",
       "  <tbody>\n",
       "    <tr>\n",
       "      <th>0</th>\n",
       "      <td>2021</td>\n",
       "      <td>4120</td>\n",
       "      <td>83439</td>\n",
       "      <td>4.94</td>\n",
       "    </tr>\n",
       "    <tr>\n",
       "      <th>1</th>\n",
       "      <td>2020</td>\n",
       "      <td>3844</td>\n",
       "      <td>64461</td>\n",
       "      <td>5.96</td>\n",
       "    </tr>\n",
       "    <tr>\n",
       "      <th>2</th>\n",
       "      <td>2019</td>\n",
       "      <td>6344</td>\n",
       "      <td>88883</td>\n",
       "      <td>7.14</td>\n",
       "    </tr>\n",
       "    <tr>\n",
       "      <th>3</th>\n",
       "      <td>2018</td>\n",
       "      <td>4025</td>\n",
       "      <td>98855</td>\n",
       "      <td>4.07</td>\n",
       "    </tr>\n",
       "    <tr>\n",
       "      <th>4</th>\n",
       "      <td>2017</td>\n",
       "      <td>2600</td>\n",
       "      <td>51392</td>\n",
       "      <td>5.06</td>\n",
       "    </tr>\n",
       "  </tbody>\n",
       "</table>\n",
       "</div>"
      ],
      "text/plain": [
       "   Jahr  Frauen  Gesamtzahl  Prozent\n",
       "0  2021    4120       83439     4.94\n",
       "1  2020    3844       64461     5.96\n",
       "2  2019    6344       88883     7.14\n",
       "3  2018    4025       98855     4.07\n",
       "4  2017    2600       51392     5.06"
      ]
     },
     "execution_count": 8,
     "metadata": {},
     "output_type": "execute_result"
    }
   ],
   "source": [
    "data_frame2.head()"
   ]
  },
  {
   "cell_type": "markdown",
   "id": "BXYR_RGdEbVt",
   "metadata": {
    "id": "BXYR_RGdEbVt"
   },
   "source": [
    "Wenn du auf Run klickst, siehst nun du die ersten fünf Zeilen unseres DataFrames.\n",
    "\n",
    "Schreib doch mal in die Klammer eine Zahl zwischen 1 und 5 und schau was passiert 😉"
   ]
  },
  {
   "cell_type": "markdown",
   "id": "4bd508ca",
   "metadata": {
    "id": "4bd508ca"
   },
   "source": [
    "# Eine Tabelle ist nicht ganz so spannend\n",
    "\n",
    "## Wie können wir unsere Daten jetzt noch schöner darstellen?\n",
    "\n",
    "Für unseren doch recht kleinen Datensatz eignet sich zum Beispiel ein Balkendiagramm.\n",
    "\n",
    "Vorüberlegung, wie wir das Balkendiagram gestalten wollen: \n",
    "\n",
    "*   Jahre: horizontale Achse\n",
    "*   Prozentualer Anteil: vertikale Achse \n",
    "\n",
    "Wir bestimmen eine Variable (grouped_data) und weisen ihr den entsprechenden Datensatz zu. "
   ]
  },
  {
   "cell_type": "code",
   "execution_count": 9,
   "id": "OYSHanBgHpyw",
   "metadata": {
    "id": "OYSHanBgHpyw"
   },
   "outputs": [],
   "source": [
    "grouped_data=data_frame2.groupby(['Jahr']).Prozent.sum()"
   ]
  },
  {
   "cell_type": "markdown",
   "id": "2-A5wo-tHqd0",
   "metadata": {
    "id": "2-A5wo-tHqd0"
   },
   "source": [
    "Mit \"groupby\" geben wir an, nach was das Diagramm sortiert werden soll (horizontale Achse). \n",
    "\n",
    "Die Methode **sum()** summiert alle Prozentzahlen eines Jahrs, da wir jeweils nur eine pro Jahr haben, wird uns diese angezeigt und mit dem entsprechenden Jahr verknüpft."
   ]
  },
  {
   "cell_type": "markdown",
   "id": "2n3thZnRLOqv",
   "metadata": {
    "id": "2n3thZnRLOqv"
   },
   "source": [
    "### Zuletzt kümmern wir uns um das Diagrammdesign:\n",
    "\n",
    "Wir rufen die \"plot\"-Methode für die Variable auf und darin übergeben wir, welche Art Diagramm wir haben möchten ('bar'). <br>\n",
    "\n",
    "\n",
    "Farben können wir auch auswählen. Hier kannst du gern ein wenig rumspielen (per default (=wenn du keine Farbwerte ausgewählt hast) ist die Farbe einheitlich blau).\n",
    "Mit einem Klick auf 'Run' führst du den Code aus, das machst du immer am Ende eines Codeblocks, wenn du ihn ausführen möchtest. "
   ]
  },
  {
   "cell_type": "code",
   "execution_count": 10,
   "id": "581bc8f6",
   "metadata": {
    "id": "581bc8f6"
   },
   "outputs": [
    {
     "data": {
      "image/png": "[encoded data removed]",
      "text/plain": [
       "<Figure size 432x288 with 1 Axes>"
      ]
     },
     "metadata": {
      "needs_background": "light"
     },
     "output_type": "display_data"
    }
   ],
   "source": [
    "grouped_data=data_frame2.groupby(['Jahr']).Prozent.sum()\n",
    "my_colors=['b', 'r', 'c', 'y', 'g', 'm']\n",
    "grouped_data.plot(kind='bar', color=my_colors, ylabel='Anteil in Prozent', title='Frauenanteil im Laufe der Jahre')\n",
    "pyplot.show()"
   ]
  },
  {
   "cell_type": "markdown",
   "id": "GgVJZFn9NOgL",
   "metadata": {
    "id": "GgVJZFn9NOgL"
   },
   "source": [
    "## Fragst du dich: Wozu das Ganze???\n",
    "\n",
    "### Lohnt es sich wirklich, programmieren zu lernen?\n",
    "\n",
    "![Alt text](https://www.animierte-gifs.net/data/media/1512/animiertes-dagobert-duck-bild-0054.gif)\n",
    "\n",
    "#### Lass' uns ein Diagramm zu den Gehältern in der IT Branche erstellen."
   ]
  },
  {
   "cell_type": "markdown",
   "id": "8b5e7a29",
   "metadata": {
    "id": "8b5e7a29"
   },
   "source": [
    "Für dieses Diagramm nutzen wir nun den Datensatz, den wir in der Variable **data_frame1** gespeichert haben.\n",
    "\n",
    "Den schauen wir uns jetzt zunächst einmal an!"
   ]
  },
  {
   "cell_type": "markdown",
   "id": "baa2af4e",
   "metadata": {
    "id": "baa2af4e"
   },
   "source": [
    "Schau' doch mal, wie wir uns die ersten paar Zeilen eines DataFrames im allerersten Beispiel ausgegeben haben lassen."
   ]
  },
  {
   "cell_type": "code",
   "execution_count": 11,
   "id": "f1eb68d0",
   "metadata": {
    "id": "f1eb68d0"
   },
   "outputs": [
    {
     "data": {
      "text/html": [
       "<div>\n",
       "<style scoped>\n",
       "    .dataframe tbody tr th:only-of-type {\n",
       "        vertical-align: middle;\n",
       "    }\n",
       "\n",
       "    .dataframe tbody tr th {\n",
       "        vertical-align: top;\n",
       "    }\n",
       "\n",
       "    .dataframe thead th {\n",
       "        text-align: right;\n",
       "    }\n",
       "</style>\n",
       "<table border=\"1\" class=\"dataframe\">\n",
       "  <thead>\n",
       "    <tr style=\"text-align: right;\">\n",
       "      <th></th>\n",
       "      <th>MainBranch</th>\n",
       "      <th>Employment</th>\n",
       "      <th>Country</th>\n",
       "      <th>US_State</th>\n",
       "      <th>UK_Country</th>\n",
       "      <th>EdLevel</th>\n",
       "      <th>Age1stCode</th>\n",
       "      <th>LearnCode</th>\n",
       "      <th>YearsCode</th>\n",
       "      <th>YearsCodePro</th>\n",
       "      <th>...</th>\n",
       "      <th>Age</th>\n",
       "      <th>Gender</th>\n",
       "      <th>Trans</th>\n",
       "      <th>Sexuality</th>\n",
       "      <th>Ethnicity</th>\n",
       "      <th>Accessibility</th>\n",
       "      <th>MentalHealth</th>\n",
       "      <th>SurveyLength</th>\n",
       "      <th>SurveyEase</th>\n",
       "      <th>ConvertedCompYearly</th>\n",
       "    </tr>\n",
       "    <tr>\n",
       "      <th>ResponseId</th>\n",
       "      <th></th>\n",
       "      <th></th>\n",
       "      <th></th>\n",
       "      <th></th>\n",
       "      <th></th>\n",
       "      <th></th>\n",
       "      <th></th>\n",
       "      <th></th>\n",
       "      <th></th>\n",
       "      <th></th>\n",
       "      <th></th>\n",
       "      <th></th>\n",
       "      <th></th>\n",
       "      <th></th>\n",
       "      <th></th>\n",
       "      <th></th>\n",
       "      <th></th>\n",
       "      <th></th>\n",
       "      <th></th>\n",
       "      <th></th>\n",
       "      <th></th>\n",
       "    </tr>\n",
       "  </thead>\n",
       "  <tbody>\n",
       "    <tr>\n",
       "      <th>1</th>\n",
       "      <td>I am a developer by profession</td>\n",
       "      <td>Independent contractor, freelancer, or self-em...</td>\n",
       "      <td>Slovakia</td>\n",
       "      <td>NaN</td>\n",
       "      <td>NaN</td>\n",
       "      <td>Secondary school (e.g. American high school, G...</td>\n",
       "      <td>18 - 24 years</td>\n",
       "      <td>Coding Bootcamp;Other online resources (ex: vi...</td>\n",
       "      <td>NaN</td>\n",
       "      <td>NaN</td>\n",
       "      <td>...</td>\n",
       "      <td>25-34 years old</td>\n",
       "      <td>Man</td>\n",
       "      <td>No</td>\n",
       "      <td>Straight / Heterosexual</td>\n",
       "      <td>White or of European descent</td>\n",
       "      <td>None of the above</td>\n",
       "      <td>None of the above</td>\n",
       "      <td>Appropriate in length</td>\n",
       "      <td>Easy</td>\n",
       "      <td>62268.0</td>\n",
       "    </tr>\n",
       "    <tr>\n",
       "      <th>2</th>\n",
       "      <td>I am a student who is learning to code</td>\n",
       "      <td>Student, full-time</td>\n",
       "      <td>Netherlands</td>\n",
       "      <td>NaN</td>\n",
       "      <td>NaN</td>\n",
       "      <td>Bachelor’s degree (B.A., B.S., B.Eng., etc.)</td>\n",
       "      <td>11 - 17 years</td>\n",
       "      <td>Other online resources (ex: videos, blogs, etc...</td>\n",
       "      <td>7</td>\n",
       "      <td>NaN</td>\n",
       "      <td>...</td>\n",
       "      <td>18-24 years old</td>\n",
       "      <td>Man</td>\n",
       "      <td>No</td>\n",
       "      <td>Straight / Heterosexual</td>\n",
       "      <td>White or of European descent</td>\n",
       "      <td>None of the above</td>\n",
       "      <td>None of the above</td>\n",
       "      <td>Appropriate in length</td>\n",
       "      <td>Easy</td>\n",
       "      <td>NaN</td>\n",
       "    </tr>\n",
       "    <tr>\n",
       "      <th>3</th>\n",
       "      <td>I am not primarily a developer, but I write co...</td>\n",
       "      <td>Student, full-time</td>\n",
       "      <td>Russian Federation</td>\n",
       "      <td>NaN</td>\n",
       "      <td>NaN</td>\n",
       "      <td>Bachelor’s degree (B.A., B.S., B.Eng., etc.)</td>\n",
       "      <td>11 - 17 years</td>\n",
       "      <td>Other online resources (ex: videos, blogs, etc...</td>\n",
       "      <td>NaN</td>\n",
       "      <td>NaN</td>\n",
       "      <td>...</td>\n",
       "      <td>18-24 years old</td>\n",
       "      <td>Man</td>\n",
       "      <td>No</td>\n",
       "      <td>Prefer not to say</td>\n",
       "      <td>Prefer not to say</td>\n",
       "      <td>None of the above</td>\n",
       "      <td>None of the above</td>\n",
       "      <td>Appropriate in length</td>\n",
       "      <td>Easy</td>\n",
       "      <td>NaN</td>\n",
       "    </tr>\n",
       "    <tr>\n",
       "      <th>4</th>\n",
       "      <td>I am a developer by profession</td>\n",
       "      <td>Employed full-time</td>\n",
       "      <td>Austria</td>\n",
       "      <td>NaN</td>\n",
       "      <td>NaN</td>\n",
       "      <td>Master’s degree (M.A., M.S., M.Eng., MBA, etc.)</td>\n",
       "      <td>11 - 17 years</td>\n",
       "      <td>NaN</td>\n",
       "      <td>NaN</td>\n",
       "      <td>NaN</td>\n",
       "      <td>...</td>\n",
       "      <td>35-44 years old</td>\n",
       "      <td>Man</td>\n",
       "      <td>No</td>\n",
       "      <td>Straight / Heterosexual</td>\n",
       "      <td>White or of European descent</td>\n",
       "      <td>I am deaf / hard of hearing</td>\n",
       "      <td>NaN</td>\n",
       "      <td>Appropriate in length</td>\n",
       "      <td>Neither easy nor difficult</td>\n",
       "      <td>NaN</td>\n",
       "    </tr>\n",
       "    <tr>\n",
       "      <th>5</th>\n",
       "      <td>I am a developer by profession</td>\n",
       "      <td>Independent contractor, freelancer, or self-em...</td>\n",
       "      <td>United Kingdom of Great Britain and Northern I...</td>\n",
       "      <td>NaN</td>\n",
       "      <td>England</td>\n",
       "      <td>Master’s degree (M.A., M.S., M.Eng., MBA, etc.)</td>\n",
       "      <td>5 - 10 years</td>\n",
       "      <td>Friend or family member</td>\n",
       "      <td>17</td>\n",
       "      <td>10</td>\n",
       "      <td>...</td>\n",
       "      <td>25-34 years old</td>\n",
       "      <td>Man</td>\n",
       "      <td>No</td>\n",
       "      <td>NaN</td>\n",
       "      <td>White or of European descent</td>\n",
       "      <td>None of the above</td>\n",
       "      <td>NaN</td>\n",
       "      <td>Appropriate in length</td>\n",
       "      <td>Easy</td>\n",
       "      <td>NaN</td>\n",
       "    </tr>\n",
       "  </tbody>\n",
       "</table>\n",
       "<p>5 rows × 47 columns</p>\n",
       "</div>"
      ],
      "text/plain": [
       "                                                   MainBranch  \\\n",
       "ResponseId                                                      \n",
       "1                              I am a developer by profession   \n",
       "2                      I am a student who is learning to code   \n",
       "3           I am not primarily a developer, but I write co...   \n",
       "4                              I am a developer by profession   \n",
       "5                              I am a developer by profession   \n",
       "\n",
       "                                                   Employment  \\\n",
       "ResponseId                                                      \n",
       "1           Independent contractor, freelancer, or self-em...   \n",
       "2                                          Student, full-time   \n",
       "3                                          Student, full-time   \n",
       "4                                          Employed full-time   \n",
       "5           Independent contractor, freelancer, or self-em...   \n",
       "\n",
       "                                                      Country US_State  \\\n",
       "ResponseId                                                               \n",
       "1                                                    Slovakia      NaN   \n",
       "2                                                 Netherlands      NaN   \n",
       "3                                          Russian Federation      NaN   \n",
       "4                                                     Austria      NaN   \n",
       "5           United Kingdom of Great Britain and Northern I...      NaN   \n",
       "\n",
       "           UK_Country                                            EdLevel  \\\n",
       "ResponseId                                                                 \n",
       "1                 NaN  Secondary school (e.g. American high school, G...   \n",
       "2                 NaN       Bachelor’s degree (B.A., B.S., B.Eng., etc.)   \n",
       "3                 NaN       Bachelor’s degree (B.A., B.S., B.Eng., etc.)   \n",
       "4                 NaN    Master’s degree (M.A., M.S., M.Eng., MBA, etc.)   \n",
       "5             England    Master’s degree (M.A., M.S., M.Eng., MBA, etc.)   \n",
       "\n",
       "               Age1stCode                                          LearnCode  \\\n",
       "ResponseId                                                                     \n",
       "1           18 - 24 years  Coding Bootcamp;Other online resources (ex: vi...   \n",
       "2           11 - 17 years  Other online resources (ex: videos, blogs, etc...   \n",
       "3           11 - 17 years  Other online resources (ex: videos, blogs, etc...   \n",
       "4           11 - 17 years                                                NaN   \n",
       "5            5 - 10 years                            Friend or family member   \n",
       "\n",
       "           YearsCode YearsCodePro  ...              Age Gender Trans  \\\n",
       "ResponseId                         ...                                 \n",
       "1                NaN          NaN  ...  25-34 years old    Man    No   \n",
       "2                  7          NaN  ...  18-24 years old    Man    No   \n",
       "3                NaN          NaN  ...  18-24 years old    Man    No   \n",
       "4                NaN          NaN  ...  35-44 years old    Man    No   \n",
       "5                 17           10  ...  25-34 years old    Man    No   \n",
       "\n",
       "                          Sexuality                     Ethnicity  \\\n",
       "ResponseId                                                          \n",
       "1           Straight / Heterosexual  White or of European descent   \n",
       "2           Straight / Heterosexual  White or of European descent   \n",
       "3                 Prefer not to say             Prefer not to say   \n",
       "4           Straight / Heterosexual  White or of European descent   \n",
       "5                               NaN  White or of European descent   \n",
       "\n",
       "                          Accessibility       MentalHealth  \\\n",
       "ResponseId                                                   \n",
       "1                     None of the above  None of the above   \n",
       "2                     None of the above  None of the above   \n",
       "3                     None of the above  None of the above   \n",
       "4           I am deaf / hard of hearing                NaN   \n",
       "5                     None of the above                NaN   \n",
       "\n",
       "                     SurveyLength                  SurveyEase  \\\n",
       "ResponseId                                                      \n",
       "1           Appropriate in length                        Easy   \n",
       "2           Appropriate in length                        Easy   \n",
       "3           Appropriate in length                        Easy   \n",
       "4           Appropriate in length  Neither easy nor difficult   \n",
       "5           Appropriate in length                        Easy   \n",
       "\n",
       "           ConvertedCompYearly  \n",
       "ResponseId                      \n",
       "1                      62268.0  \n",
       "2                          NaN  \n",
       "3                          NaN  \n",
       "4                          NaN  \n",
       "5                          NaN  \n",
       "\n",
       "[5 rows x 47 columns]"
      ]
     },
     "execution_count": 11,
     "metadata": {},
     "output_type": "execute_result"
    }
   ],
   "source": [
    "data_frame1.head()"
   ]
  },
  {
   "cell_type": "markdown",
   "id": "f69bff33",
   "metadata": {
    "id": "f69bff33"
   },
   "source": [
    "Du merkst schon: Der Datensatz ist sehr groß!\n",
    "\n",
    "Lass uns alle Spalten des Datensatzes ausgeben. Dies funktioniert mit:"
   ]
  },
  {
   "cell_type": "code",
   "execution_count": 12,
   "id": "c78dd76c",
   "metadata": {
    "id": "c78dd76c"
   },
   "outputs": [
    {
     "name": "stdout",
     "output_type": "stream",
     "text": [
      "<class 'pandas.core.frame.DataFrame'>\n",
      "Int64Index: 83439 entries, 1 to 83439\n",
      "Data columns (total 47 columns):\n",
      " #   Column                        Non-Null Count  Dtype  \n",
      "---  ------                        --------------  -----  \n",
      " 0   MainBranch                    83439 non-null  object \n",
      " 1   Employment                    83323 non-null  object \n",
      " 2   Country                       83439 non-null  object \n",
      " 3   US_State                      14920 non-null  object \n",
      " 4   UK_Country                    4418 non-null   object \n",
      " 5   EdLevel                       83126 non-null  object \n",
      " 6   Age1stCode                    83243 non-null  object \n",
      " 7   LearnCode                     82963 non-null  object \n",
      " 8   YearsCode                     81641 non-null  object \n",
      " 9   YearsCodePro                  61216 non-null  object \n",
      " 10  DevType                       66484 non-null  object \n",
      " 11  OrgSize                       60726 non-null  object \n",
      " 12  Currency                      61080 non-null  object \n",
      " 13  CompTotal                     47183 non-null  float64\n",
      " 14  CompFreq                      52150 non-null  object \n",
      " 15  LanguageHaveWorkedWith        82357 non-null  object \n",
      " 16  LanguageWantToWorkWith        76821 non-null  object \n",
      " 17  DatabaseHaveWorkedWith        69546 non-null  object \n",
      " 18  DatabaseWantToWorkWith        58299 non-null  object \n",
      " 19  PlatformHaveWorkedWith        52135 non-null  object \n",
      " 20  PlatformWantToWorkWith        41619 non-null  object \n",
      " 21  WebframeHaveWorkedWith        61707 non-null  object \n",
      " 22  WebframeWantToWorkWith        52095 non-null  object \n",
      " 23  MiscTechHaveWorkedWith        47055 non-null  object \n",
      " 24  MiscTechWantToWorkWith        38021 non-null  object \n",
      " 25  ToolsTechHaveWorkedWith       72537 non-null  object \n",
      " 26  ToolsTechWantToWorkWith       65480 non-null  object \n",
      " 27  NEWCollabToolsHaveWorkedWith  81234 non-null  object \n",
      " 28  NEWCollabToolsWantToWorkWith  73022 non-null  object \n",
      " 29  OpSys                         83294 non-null  object \n",
      " 30  NEWStuck                      83052 non-null  object \n",
      " 31  NEWSOSites                    83171 non-null  object \n",
      " 32  SOVisitFreq                   82413 non-null  object \n",
      " 33  SOAccount                     82525 non-null  object \n",
      " 34  SOPartFreq                    67553 non-null  object \n",
      " 35  SOComm                        82319 non-null  object \n",
      " 36  NEWOtherComms                 82828 non-null  object \n",
      " 37  Age                           82407 non-null  object \n",
      " 38  Gender                        82286 non-null  object \n",
      " 39  Trans                         80678 non-null  object \n",
      " 40  Sexuality                     73366 non-null  object \n",
      " 41  Ethnicity                     79464 non-null  object \n",
      " 42  Accessibility                 77603 non-null  object \n",
      " 43  MentalHealth                  76920 non-null  object \n",
      " 44  SurveyLength                  81711 non-null  object \n",
      " 45  SurveyEase                    81948 non-null  object \n",
      " 46  ConvertedCompYearly           46844 non-null  float64\n",
      "dtypes: float64(2), object(45)\n",
      "memory usage: 30.6+ MB\n"
     ]
    }
   ],
   "source": [
    "data_frame1.info()"
   ]
  },
  {
   "cell_type": "markdown",
   "id": "e174f390",
   "metadata": {
    "id": "e174f390"
   },
   "source": [
    "## Liniendiagramm"
   ]
  },
  {
   "cell_type": "markdown",
   "id": "2da98980",
   "metadata": {
    "id": "2da98980"
   },
   "source": [
    "Da wir uns nur die Gehälter anschauen möchten, brauchen wir Spalte 47 (**ConvertedCompYearly**). <br>\n",
    "Das speichern wir direkt in einer neuen Variable: **salary** ab."
   ]
  },
  {
   "cell_type": "code",
   "execution_count": 13,
   "id": "11dcee12",
   "metadata": {
    "id": "11dcee12"
   },
   "outputs": [],
   "source": [
    "salary=data_frame1.ConvertedCompYearly"
   ]
  },
  {
   "cell_type": "markdown",
   "id": "f525fbe6",
   "metadata": {
    "id": "f525fbe6"
   },
   "source": [
    "Für eine bessere Übersicht erstellen wir uns jetzt einen neuen DataFrame **new_data_frame**.\n",
    "\n",
    "In diesen neuen DataFrame speichern wir salary und wenden die Funktion **sort_values** an, um den DataFrame nach **ConvertedCompYearly** zu sortieren."
   ]
  },
  {
   "cell_type": "code",
   "execution_count": 14,
   "id": "589d4fd0",
   "metadata": {
    "id": "589d4fd0"
   },
   "outputs": [],
   "source": [
    "new_data_frame=pandas.DataFrame(salary).sort_values(by='ConvertedCompYearly')"
   ]
  },
  {
   "cell_type": "markdown",
   "id": "857058df",
   "metadata": {
    "id": "857058df"
   },
   "source": [
    "Da es in dem Datensatz viele nicht-verwendbare Einträge gibt, müssen wir erstmal aufräumen (Datenbereinigung).\n",
    "\n",
    "![Alt text](https://media.giphy.com/media/LwHkZcEhYZYFhDrh8X/giphy.gif)"
   ]
  },
  {
   "cell_type": "markdown",
   "id": "6bdeeb41",
   "metadata": {
    "id": "6bdeeb41"
   },
   "source": [
    "Dies passiert mit der Funktion **dropna()**. **dropna()** entfernt sogenannte **NaN**-Werte, was für \"Not a number\" steht. Da wir Gehälter (also Zahlen) betrachten wollen, können wir mit diesen Werten nichts anfangen."
   ]
  },
  {
   "cell_type": "code",
   "execution_count": 15,
   "id": "f93e66d6",
   "metadata": {
    "id": "f93e66d6"
   },
   "outputs": [],
   "source": [
    "new_data_frame=new_data_frame.dropna()"
   ]
  },
  {
   "cell_type": "markdown",
   "id": "Hy_JguqrUBIg",
   "metadata": {
    "id": "Hy_JguqrUBIg"
   },
   "source": [
    "Weil Ordnung das halbe Leben ist, sortieren wir unsere Daten noch der Größe nach mit **sort_values**."
   ]
  },
  {
   "cell_type": "code",
   "execution_count": 16,
   "id": "HjaAJ5ufUl2u",
   "metadata": {
    "id": "HjaAJ5ufUl2u"
   },
   "outputs": [],
   "source": [
    "new_data_frame=pandas.DataFrame(salary).sort_values(by='ConvertedCompYearly')"
   ]
  },
  {
   "cell_type": "markdown",
   "id": "TCmtVFLBWLt-",
   "metadata": {
    "id": "TCmtVFLBWLt-"
   },
   "source": [
    "Wir haben den Dataframe nach seinen Werten sortiert (Gehalt von klein nach groß), wir möchten auch, dass dieser beim plotten so angezeigt wird. Um das zu gewährleisten, müssen wir die Indizes dementsprechend anpassen. Dies tun wir mit **resetindex**. So bekommt das niedrigste Gehalt den niedrigsten Index zugewiesen. "
   ]
  },
  {
   "cell_type": "code",
   "execution_count": 17,
   "id": "UsIkAhI5XEW1",
   "metadata": {
    "id": "UsIkAhI5XEW1"
   },
   "outputs": [],
   "source": [
    "new_data_frame=new_data_frame.reset_index(drop = True)"
   ]
  },
  {
   "cell_type": "markdown",
   "id": "lMAT10HPXPQ9",
   "metadata": {
    "id": "lMAT10HPXPQ9"
   },
   "source": [
    "Als letzten Datenbereinigungsschritt werden wir noch die ersten und letzten 2000 Daten abschneiden, um extreme \"Auswüchse\" zu entfernen."
   ]
  },
  {
   "cell_type": "code",
   "execution_count": 18,
   "id": "L1AZA1z_YNSO",
   "metadata": {
    "id": "L1AZA1z_YNSO"
   },
   "outputs": [],
   "source": [
    "new_data_frame=new_data_frame.drop(new_data_frame.tail(2000).index)\n",
    "new_data_frame=new_data_frame.drop(new_data_frame.head(2000).index)"
   ]
  },
  {
   "cell_type": "markdown",
   "id": "fa512ad1",
   "metadata": {
    "id": "fa512ad1"
   },
   "source": [
    "![Alt text](https://media.giphy.com/media/XeeUDlRgrsSA8kUsvI/giphy.gif)"
   ]
  },
  {
   "cell_type": "markdown",
   "id": "f041efd5",
   "metadata": {
    "id": "f041efd5"
   },
   "source": [
    "Wie beim oberen Balkendiagramm kommt jetzt noch die **plot**-Methode, um den Graphen erstellen zu lassen. Etwas Farbe fehlt noch und natürlich die Beschriftung der Achsen.\n",
    "\n"
   ]
  },
  {
   "cell_type": "code",
   "execution_count": 19,
   "id": "A7DEjjNpZGKB",
   "metadata": {
    "id": "A7DEjjNpZGKB"
   },
   "outputs": [
    {
     "data": {
      "text/plain": [
       "<AxesSubplot:xlabel='Index', ylabel='Gehalt in Dollar'>"
      ]
     },
     "execution_count": 19,
     "metadata": {},
     "output_type": "execute_result"
    },
    {
     "data": {
      "image/png": "[encoded data removed]",
      "text/plain": [
       "<Figure size 432x288 with 1 Axes>"
      ]
     },
     "metadata": {
      "needs_background": "light"
     },
     "output_type": "display_data"
    }
   ],
   "source": [
    "new_data_frame.plot(xlabel='Index', ylabel='Gehalt in Dollar', color='green')"
   ]
  },
  {
   "cell_type": "markdown",
   "id": "5rZSCBU6ZKR9",
   "metadata": {
    "id": "5rZSCBU6ZKR9"
   },
   "source": [
    "### All in all:"
   ]
  },
  {
   "cell_type": "code",
   "execution_count": 28,
   "id": "4a54cb87",
   "metadata": {
    "id": "4a54cb87"
   },
   "outputs": [
    {
     "data": {
      "image/png": "[encoded data removed]",
      "text/plain": [
       "<Figure size 432x288 with 1 Axes>"
      ]
     },
     "metadata": {
      "needs_background": "light"
     },
     "output_type": "display_data"
    }
   ],
   "source": [
    "# Get col of a dataframe\n",
    "salary=data_frame1.ConvertedCompYearly\n",
    "new_data_frame=pandas.DataFrame(salary).sort_values(by='ConvertedCompYearly')\n",
    "new_data_frame=new_data_frame.dropna()\n",
    "new_data_frame=new_data_frame.reset_index(drop = True)\n",
    "\n",
    "#Die oberen und unteren ca 5% werden abgeschnitten, um eine aussagekräftigere Kurve zu erhalten.\n",
    "new_data_frame=new_data_frame.drop(new_data_frame.tail(2000).index)\n",
    "new_data_frame=new_data_frame.drop(new_data_frame.tail(2000).index)\n",
    "\n",
    "new_data_frame.plot(xlabel='Index', ylabel='Gehalt in Dollar', color='green')\n",
    "pyplot.show()"
   ]
  },
  {
   "cell_type": "markdown",
   "id": "ED2VI0hqc-YV",
   "metadata": {
    "id": "ED2VI0hqc-YV"
   },
   "source": [
    "Der große Datensatz beinhaltet noch viele andere spannende Daten, z.B. in welchen Bereichen ITler*innen arbeiten. Wir lernen jetzt, wie wir diese Daten in einem Kreisdiagramm darstellen können."
   ]
  },
  {
   "cell_type": "markdown",
   "id": "J8zEWw1Y0_Sf",
   "metadata": {
    "id": "J8zEWw1Y0_Sf"
   },
   "source": [
    "### Kreisdiagramm\n",
    "\n",
    "Unsere neue Variable befüllen wir mit einem DataFrame. Vorher sortieren wir den DataFrame nach \"DevType\", also der Art von EntwicklerIn. \n",
    "\n",
    "Mit **value_counts()**  wird zusammengezählt, wie viele EntwicklerInnen es von jedem der angegebenen Typen gibt. Da unsere Daten bei Anwendung der Methode **value_counts()** in einem anderen Datenformat gespeichert werden, müssen sie mit der Methode **to_frame()** zurück in ein DataFrame gewandelt werden. "
   ]
  },
  {
   "cell_type": "code",
   "execution_count": 21,
   "id": "qJ3HXmCG1C5Y",
   "metadata": {
    "id": "qJ3HXmCG1C5Y"
   },
   "outputs": [],
   "source": [
    "developer_type=data_frame1[\"DevType\"].value_counts().to_frame()"
   ]
  },
  {
   "cell_type": "markdown",
   "id": "c7dGW5Va1GSv",
   "metadata": {
    "id": "c7dGW5Va1GSv"
   },
   "source": [
    "Wir verwenden nun wieder die **plot()**-Methode, zusammen mit der **pie()**-Methode, um dieses Mal statt eines Säulendiagramms ein Kuchendiagramm zu zeichnen. "
   ]
  },
  {
   "cell_type": "code",
   "execution_count": 22,
   "id": "aSPZ001T2b0Y",
   "metadata": {
    "id": "aSPZ001T2b0Y"
   },
   "outputs": [
    {
     "data": {
      "text/plain": [
       "array([<AxesSubplot:ylabel='DevType'>], dtype=object)"
      ]
     },
     "execution_count": 22,
     "metadata": {},
     "output_type": "execute_result"
    },
    {
     "data": {
      "image/png": "[encoded data removed]",
      "text/plain": [
       "<Figure size 432x288 with 1 Axes>"
      ]
     },
     "metadata": {},
     "output_type": "display_data"
    }
   ],
   "source": [
    "developer_type[:6].plot.pie(subplots=True, legend=False)"
   ]
  },
  {
   "cell_type": "markdown",
   "id": "2qM_2Hym2hQ5",
   "metadata": {
    "id": "2qM_2Hym2hQ5"
   },
   "source": [
    "Wir wollen die sechs Top Kategorien von EntwicklerInnen in unserem Diagramm darstellen. Diese beinhalten vier verschiedene Grundtypen von EntwicklerInnen: \n",
    "\n",
    "*   front-end (Design und Nutzerbedienung)\n",
    "*   back-end (Datenbanken, Server, etc.)\n",
    "*   mobile (Apps-Entwicklung, etc.)\n",
    "*   full-stack (Eine EntwicklerIn, die sowohl Front-end als auch Back-end entwickelt.)\n",
    "\n",
    "Die Einstellungen **subplots=True** und **legend=False** sind default-Werte für unser gewünschtes Ergebnis.\n",
    "\n",
    "**pyplot.ylabel('')** sagt lediglich aus, dass wir keine weitere Beschriftung unseres Diagramms haben möchten."
   ]
  },
  {
   "cell_type": "code",
   "execution_count": 23,
   "id": "e7374c2c",
   "metadata": {
    "id": "e7374c2c"
   },
   "outputs": [
    {
     "data": {
      "image/png": "[encoded data removed]",
      "text/plain": [
       "<Figure size 432x288 with 1 Axes>"
      ]
     },
     "metadata": {},
     "output_type": "display_data"
    }
   ],
   "source": [
    "developer_type=data_frame1[\"DevType\"].value_counts().to_frame()\n",
    "#developer_type[:6].plot(kind='bar')\n",
    "developer_type[:6].plot.pie(subplots=True,legend=False)\n",
    "pyplot.ylabel('')\n",
    "pyplot.show()"
   ]
  },
  {
   "cell_type": "markdown",
   "id": "3712d098",
   "metadata": {
    "id": "3712d098"
   },
   "source": [
    "Versuche jetzt doch mal, das **#** am Anfang der zweiten Zeile zu löschen und stattdessen eins in der dritten Zeile zu setzen. <br>\n",
    "Mit einem **#** kannst du Text in Python zu einem Kommentar machen.<br>\n",
    "Das bedeutet, dein Programm weiß, dass es sich bei deinem Text nicht um Code, sondern lediglich um Text handelt.\n",
    "\n",
    "Führe den Code aus. Was passiert?"
   ]
  },
  {
   "cell_type": "markdown",
   "id": "u3iHT_YK9yUR",
   "metadata": {
    "id": "u3iHT_YK9yUR"
   },
   "source": [
    "## Bisher haben wir alles in Python gemacht\n",
    "\n",
    "Wie du bestimmt weißt, gibt es noch zahlreiche, andere Programmiersprachen. \n",
    "Im Gegensatz zu normalen Sprachen wie Englisch und Deutsch gibt es bei Programmiersprachen stetig neue Sprachen und Sprachen die im Trend sind. \n",
    "\n",
    "Python, die Sprache, die du gerade kennenlernst, ist momentan der Renner!\n",
    "\n",
    "\n",
    "![Alt text](https://media.giphy.com/media/VeyCyriTsxn3i/giphy.gif)\n",
    "\n",
    "In unserem nächsten Diagramm schauen wir uns an, welche Sprachen aktuell (2021) am häufigsten genutzt werden. "
   ]
  },
  {
   "cell_type": "markdown",
   "id": "3KKfzPO6BiBj",
   "metadata": {
    "id": "3KKfzPO6BiBj"
   },
   "source": [
    "Wie wir das bereits aus dem vorherigen Beispiel kennen, brauchen wir wieder eine Variable (**languages**). \n",
    "\n",
    "Nun tauschen wir lediglich die Kategorie aus, nach der wir unsere Werte aufsummieren (**LanguageHaveWorkedWith**). "
   ]
  },
  {
   "cell_type": "code",
   "execution_count": 24,
   "id": "b8595712",
   "metadata": {
    "id": "b8595712",
    "scrolled": true
   },
   "outputs": [
    {
     "data": {
      "image/png": "[encoded data removed]",
      "text/plain": [
       "<Figure size 432x288 with 1 Axes>"
      ]
     },
     "metadata": {},
     "output_type": "display_data"
    }
   ],
   "source": [
    "languages=data_frame1['LanguageHaveWorkedWith'].value_counts().to_frame()\n",
    "languages[:6].plot.pie(subplots=True,legend=False)\n",
    "pyplot.ylabel('')\n",
    "pyplot.show()"
   ]
  },
  {
   "cell_type": "markdown",
   "id": "se70OILEFkE7",
   "metadata": {
    "id": "se70OILEFkE7"
   },
   "source": [
    "## Wie wichtig ist es, dass mehr Frauen Informatik studieren?\n",
    "\n",
    "### A: Sehr wichtig\n",
    "### B: Mega wichtig\n",
    "\n",
    "![Alt text](https://media.giphy.com/media/kKKxPTD3E96sqq26O0/giphy.gif)\n",
    "\n",
    "#### Da wir das nun geklärt haben:\n",
    "\n",
    "Lass uns nun ein Diagramm erstellen, indem wir die Gehälter von Männern und Frauen in der Informatik vergleichen. \n",
    "\n",
    "Dieses Diagramm eignet sich auch gut für andere Gegenüberstellungen von Datensätzen mit zwei unterschiedlichen Kategorien."
   ]
  },
  {
   "cell_type": "markdown",
   "id": "b9593cb9",
   "metadata": {
    "id": "b9593cb9"
   },
   "source": [
    "# Schablone\n"
   ]
  },
  {
   "cell_type": "markdown",
   "id": "9A4qFtJdOLmo",
   "metadata": {
    "id": "9A4qFtJdOLmo"
   },
   "source": [
    "Wir beginnen wieder mit dem bereits bekannten Prinzip, der Definition von zwei Variablen. \n",
    "\n",
    "Da wir in unserem Fall den Mittelwert der Gehälter beider Geschlechter gegenüberstellen wollen, nennen wir die Variablen einfach:\n",
    "\n",
    "**mean_man** und **mean_women**\n",
    "\n",
    "Wir nehmen uns den ersten DataFrame zu Hand und suchen in diesem jeweils alle Zeilen raus, wo das Geschlecht als **Man** angegeben ist. Für jede dieser Zeilen nehmen wir den Wert, der in der Spalte **ConvertedCompYearly** steht und wenden schließlich die Methode **mean()** an, um den Mittelwert all dieser Werte zu berechnen. "
   ]
  },
  {
   "cell_type": "code",
   "execution_count": 25,
   "id": "SxR4mrUMSS7y",
   "metadata": {
    "id": "SxR4mrUMSS7y"
   },
   "outputs": [],
   "source": [
    "mean_man = data_frame1[data_frame1['Gender']=='Man'].ConvertedCompYearly.mean()"
   ]
  },
  {
   "cell_type": "markdown",
   "id": "7bWhRQHUSVVt",
   "metadata": {
    "id": "7bWhRQHUSVVt"
   },
   "source": [
    "Dasselbe führen wir auch für die Spalte aus, in der das Geschlecht als **Woman** angegeben wurde:"
   ]
  },
  {
   "cell_type": "code",
   "execution_count": 26,
   "id": "gYG8SrUjSfJz",
   "metadata": {
    "id": "gYG8SrUjSfJz"
   },
   "outputs": [],
   "source": [
    "mean_woman = data_frame1[data_frame1['Gender']=='Woman'].ConvertedCompYearly.mean()"
   ]
  },
  {
   "cell_type": "markdown",
   "id": "PdTUA66GShsO",
   "metadata": {
    "id": "PdTUA66GShsO"
   },
   "source": [
    "Nachdem wir unsere Variablen befüllt haben, erstellen wir einen neuen DataFrame mit einer Spalte, die wir **Mean Income** nennen. Dieser Spalte weisen wir unsere beiden Variablen als Werte zu - wir haben also zwei Zeilen (für jede Variable eine Zeile). Bisher hatten wir als Index immer nur automatisch zugeordnete Zahlen, jetzt möchten wir hingegen als Index Worte nutzen. **Male** für die eine Zeile, **Female** für die andere Zeile. \n",
    "\n",
    "Zuletzt erstellen wir mit der Methode **plot()** unser Diagramm aus unserem DataFrame.\n",
    "\n",
    "Als Typ verwenden wir hier wieder **'bar'**.\n",
    "\n"
   ]
  },
  {
   "cell_type": "code",
   "execution_count": 27,
   "id": "74b1e544",
   "metadata": {
    "id": "74b1e544"
   },
   "outputs": [
    {
     "data": {
      "image/png": "[encoded data removed]",
      "text/plain": [
       "<Figure size 432x288 with 1 Axes>"
      ]
     },
     "metadata": {
      "needs_background": "light"
     },
     "output_type": "display_data"
    }
   ],
   "source": [
    "mean_man = data_frame1[data_frame1['Gender']=='Man'].ConvertedCompYearly.mean()\n",
    "mean_woman = data_frame1[data_frame1['Gender']=='Woman'].ConvertedCompYearly.mean()\n",
    "mwmean = pandas.DataFrame(\n",
    "    {\n",
    "    'Mean Income': [mean_man, mean_woman]\n",
    "    }, index=['Male', 'Female']\n",
    ")\n",
    "mwmean.plot(kind='bar')\n",
    "pyplot.show()"
   ]
  },
  {
   "cell_type": "markdown",
   "id": "c7af5ebb",
   "metadata": {
    "id": "c7af5ebb"
   },
   "source": [
    "### **Herzlichen Glückwunsch**, du hast gewonnen und zwar eine wohlverdiente Pause!\n",
    "![Alt text](https://media.giphy.com/media/muCo9BLS7vjErTON27/giphy.gif)"
   ]
  }
 ],
 "metadata": {
  "colab": {
   "collapsed_sections": [],
   "name": "SO_Visualisierung_Tutorial.ipynb",
   "provenance": []
  },
  "kernelspec": {
   "display_name": "EnvWorkshop",
   "language": "python",
   "name": "envworkshop"
  },
  "language_info": {
   "codemirror_mode": {
    "name": "ipython",
    "version": 3
   },
   "file_extension": ".py",
   "mimetype": "text/x-python",
   "name": "python",
   "nbconvert_exporter": "python",
   "pygments_lexer": "ipython3",
   "version": "3.9.7"
  }
 },
 "nbformat": 4,
 "nbformat_minor": 5
}
