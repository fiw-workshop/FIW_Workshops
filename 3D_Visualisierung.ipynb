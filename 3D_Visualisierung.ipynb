{
  "cells": [
    {
      "cell_type": "markdown",
      "metadata": {
        "id": "60Eg4_w6eb7F"
      },
      "source": [
        "# Bilderstapel und  3D-Visualisierung\n",
        "***"
      ]
    },
    {
      "cell_type": "markdown",
      "source": [
        "Nachdem wir uns im ersten Teil die Visualisierung von Daten aus Dataframes angeschaut haben, möchten wir uns nun damit beschäftigen, wie wir aus einem Stapel von Bildern eine 3D Darstellung generieren können.\n"
      ],
      "metadata": {
        "id": "nUocsw8vkTNS"
      }
    },
    {
      "cell_type": "markdown",
      "metadata": {
        "id": "nedgHnpseb7M"
      },
      "source": [
        "## Aufgabenbeschreibung"
      ]
    },
    {
      "cell_type": "markdown",
      "metadata": {
        "id": "MpGYEViPeb7M"
      },
      "source": [
        "Du kennst Verfahren wie z.B. Computertomographie und Magnetresonaztherapie. Deren Ergebnisse sind Stapel von zum Teil mehreren hundert Schnitt- bzw. Schichtbildern, primär in der Transversalebene. Es besteht die Möglichkeit aus diesen *Originalbildern* weitere Ebenen für eine Visualisierung zu berechnen. Eine weitere Option ist den Bildstapel einer Ebene als Basis für eine 3D-Visualisierung zu nutzen.\n",
        "\n",
        "Innerhalb dieses Teil des Workshops wollen wir zwei Ziele erreichen:\n",
        "1. Umgang mit Bilderstapeln und deren Visualisierung sowie die Verarbeitung der einzelnen Schichtbilder, um sie für die 3D-Rekonstruktion nutzen zu können\n",
        "2. Rekonstruktion und Visualisierung eines 3D-Modells auf Basis des (vorverarbeiteten) Bildstapels \n",
        "\n",
        "Der Datensatz ist den *CT Datasets (Visible Female CT Datasets)* des *Visible Human Project* (<https://www.nlm.nih.gov/research/visible/visible_human.html>) entnommen.\n"
      ]
    },
    {
      "cell_type": "markdown",
      "metadata": {
        "id": "mt_9jhoreb7O"
      },
      "source": [
        "### Aufgaben:\n",
        "\n",
        "**1. Einlesen und Visualisieren des DICOM-Bildstapels**\n",
        "\n",
        "Wir lesen alle DICOM-Bilder des Verzeichnisses ein und\n",
        "visualisieren den Bildstapel mit Hilfe eines interaktiven **Sliders** über den durch den Bildstapel navigiert werden kann. \n",
        "\n",
        "*Dicom ist das Dateiformat in dem CT Bilder gespeichert werden*\n",
        "\n",
        "Wie du es aus dem ersten Teil des Workshops bereits kennst, müssen wir die benötigten Bibliotheken importieren.\n",
        "Wir benötigen folgende: os, pydicom und ipywidgets.\n",
        "Im ersten Teil hatten wir die Bibliothek pandas als pandas verwendet. Hier wollen wir ipywidgets einen Namen zuweisen, z.B. widgets.\n",
        "Aus der Bibliothek ipywidgets benötigen wir interact und fixed.\n",
        "\n",
        "`[ ] from ipywidgets import interact, fixed`\n",
        "\n",
        "Damit unsere Ergebnisse im Notebook angezeigt werden, ist es wichtig dies festzulegen. Dafür stellt uns jupyter notebook ein magic command bereit, dieses heißt inline. \n",
        "Magic commands sind spezielle Befehle, die uns bei der Ausführung und Analyse von Daten in unserem Notebook helfen können. Sie fügen eine spezielle Funktionalität hinzu, die mit Python-Code oder der Jupyter-Notebook-Schnittstelle nicht ohne weiteres zu erreichen ist.\n",
        "Magic commands sind innerhalb des Codes leicht zu erkennen. Sie werden entweder mit % eingeleitet, wenn sie in einer Codezeile stehen, oder mit %%, wenn sie in mehreren Zeilen stehen.\n",
        "Der Aufruf sieht wie folgt aus:\n",
        "\n",
        "`[ ] %matplotlib inline`\n",
        "\n",
        "Wir erstellen eine Variable mit dem Namen **image_stack**. Diese Variable soll alle Bilder beinhalten. Um so viele Bilder abzulegen, benötigen wir eine Liste.\n",
        "Eine Liste kannst du dir wie eine Kommode mit verschiedenen Schubladen vorstellen. Jede dieser Schubladen hat eine Nummer (diese nennen wir Index, beginnend bei 0). In jede Schublade kommt ein Bild...wir haben also eine sehr große Kommode ;).\n",
        "\n",
        "Um die Kommode mit Bildern zu befüllen, müssen wir durch alle Bilder durchgehen, und an die richtige Stelle legen. Da wir diese Tätigkeit immer wieder durchführen, macht es Sinn einen Loop zu erstellen.\n",
        "\n",
        "Es gibt verschiedene Formen von Loops. Es gibt u.a. while, for each und for Loops. In unserem Fall benutzen wir den for Loop.\n",
        "Mit einem for-Loop kannst du einen Teil deines Programms wiederholen. Aber wie sagst du deinem Programm, wie oft es sich wiederholen soll? \n",
        "Bei Python for-Loops machst du das, indem du deinem Programm zum Beispiel eine Liste gibst. Für jedes Element in deiner Liste wird deine Schleife einmal ausgeführt.\n",
        "Wir wollen pro Bild die **sorted()** Funktion aufrufen um diese zu sortieren. Die **sorted()** bekommt den Pfad als Übergabewert.\n",
        "\n",
        "`[ ] for file_name in sorted(os.listdir)`, in die runden Klammern kommt, nach dem Aufruf der Bibliothek, der Pfad zu der Datei.\n",
        "\n",
        "Im Loop erstellen wir eine neue Variable namens **pixels**, in dieser werden die Bilder als Pixelarray gespeichert.\n",
        "Ein Pixelarray umschließt eine Oberfläche und bietet direkten Zugriff auf die Pixel der Oberfläche. Ein Pixelarray kann ein- oder zweidimensional sein.\n",
        "Als Erstes rufen wir eine Funktion aus der pydicom Bibliothek auf. Es handelt sich um die **read_file()** Funktion. Der Aufruf aus der Bibliothek sieht wie folgt aus:\n",
        "\n",
        "`[ ] pydicom.read_file('./Shoulder/' + file_name)`\n",
        "\n",
        "In die runden Klammern, kommt wie du siehst der Pfad der Datei. Anschließend ist es wichtig, mit pixel_array festzulegen, dass es sich um ein Pixelarray handelt.\n",
        "Mit `.pixel_array` am Ende der Zeile wird dies erledigt.\n",
        "Um die Bilder in image_stack abzulegen, benutzen wir die Funktion **append()**, welche **pixels** als Übergabewert bekommmt.\n",
        "`[ ] image_stack.append(pixels)`\n",
        "\n",
        "Da wir die Bilder erfolgreich in **image_stack** gespeichert haben, wollen wir sie auch sehen.\n",
        "\n",
        "Wir schreiben uns eine Funktion in der wir festlegen, wie die Bilder dargestellt werden sollen.\n",
        "\n",
        "Eine Funktion in Python schreibst du, indem du mit **def** am Anfang festlegst, dass es sich um eine Funktion handeln soll. Danach legst du den Namen fest. In diesem Fall eignet sich z.B. **show_image**, dann legst du die Übergabewerte fest. In diesem Fall soll das natürlich zum Einen **image_stack** sein und zum Anderen **position**. Position geben wir an, damit wir gleich mit einem Slider durch unsere Bilder durchgehen können. Nach dem Schließen der runden Klammern, setzt du einen Doppelpunkt und schon kann es, in der nächsten Zeile, mit dem Körper der Funktion losgehen.\n",
        "Hier wollen wir festlegen wie genau unsere Bilder angezeigt werden sollen. \n",
        "Dazu benötigen wir mehrere Funktionen aus der matplotlib.pyplot Bibliothek. Wir beginnen mit **figure()**, diese nutzen wir, um die Größe des Kastens festzulegen in dem unsere Bilder angezeigt werden. Dies tun wir in dem wir **figsize(10,10)** als Übergabewert übergeben. Die nächste Funktion die wir nutzen ist **imshow()**. Hier wollen wir uns um den Slider und die Farbgebung kümmern indem wir **image_stack[position], cmap=plt.cm.gray** als Übergabewerte übergeben. Mit **axis()** können wir die Beschriftung der Achsen ausstellen. Dazu setzen wir als Übergabewert **'off'**.\n",
        "Mit **plt.show** plotten wir die Bilder.\n",
        "Um den Slider zu gestalten erstellen wir eine neue Variable und rufen aus **widgets** die Funktion **IntSlider()** auf. Diese Funktion benötigt den niedrigsten Wert den wir haben wollen. Wir definieren ihn mit **min=0**, der höchste Wert den wir wollen, ist der Index des letzten Bildes - 1, dann kommt die Größe der Schritte mit **step=1** und **value=0**. Es ist wichtig **countinous_update** auf **False** zu setzen, da sonst immer wieder nachgeladen wird und ein weißes Flackern beim Sliden entsteht.\n",
        "\n",
        "`[ ] stack_slider = widgets.IntSlider(min=0, max=len(image_stack) - 1, step=1, value=0, continuous_update=False) `\n",
        "\n",
        "Da der Slider ohne **interact()** keine Funktion hat, rufen wir **interact()** auf und übergeben **show_image** (damit rufen wir die Funktion auf die wir geschrieben haben), **image_stack** benötigen wir ebenfalls, es soll auch immer noch image_stack bleiben aber fixiert sein, deswegen übergeben wir es wie angegeben. Postion soll den stack_slider enthalten.\n",
        "\n",
        "\n",
        "`[ ] interact(show_image, image_stack=fixed(image_stack), position=stack_slider);`."
      ]
    },
    {
      "cell_type": "code",
      "execution_count": null,
      "metadata": {
        "id": "dS2Wspwveb7R"
      },
      "outputs": [],
      "source": [
        "# Aufgabe 1\n",
        "\n",
        "import os\n",
        "import pydicom as dicom\n",
        "import ipywidgets as widgets\n",
        "from ipywidgets import interact, fixed\n",
        "import matplotlib.pyplot as plt\n",
        "\n",
        "%matplotlib inline\n",
        "\n",
        "image_stack = []\n",
        "\n",
        "for file_name in sorted(os.listdir('./Shoulder/')):\n",
        "    pixels = pydicom.read_file('./Shoulder/' + file_name).pixel_array\n",
        "    image_stack.append(pixels)\n",
        "             \n",
        "def show_image(image_stack, position):\n",
        "    plt.figure(figsize = (10, 10))\n",
        "    plt.imshow(image_stack[position], cmap=plt.cm.gray)\n",
        "    plt.axis('off')\n",
        "    plt.show()\n",
        "\n",
        "stack_slider = widgets.IntSlider(min=0, max=len(image_stack) - 1, step=1, value=0, continuous_update=False)    \n",
        "\n",
        "interact(show_image, image_stack=fixed(image_stack), position=stack_slider);\n",
        "\n"
      ]
    },
    {
      "cell_type": "markdown",
      "source": [
        "Wir benötigen noch einige weitere Importe, diese kannst du hier übernehmen.\n",
        "\n",
        "` [ ]`<br>\n",
        "`   import pathlib`<br>\n",
        "`   import matplotlib`<br>\n",
        "`   import skimage`<br>\n",
        "`   import numpy as np`<br>\n",
        "`   from skimage import data, draw, io, measure`<br>\n",
        "`   from skimage.morphology import *`<br>\n",
        "`   from mpl_toolkits.mplot3d.art3d import Poly3DCollection`<br>\n",
        "`   from plotly.graph_objs import *`<br>\n",
        "`   from scipy.spatial import Delaunay`<br>\n",
        "`   from plotly.figure_factory import create_trisurf`<br>\n",
        "`   import plotly.io as pio`<br>\n",
        "`   import skimage.morphology as sm`<br>"
      ],
      "metadata": {
        "id": "tuxEKJOUFu2f"
      }
    },
    {
      "cell_type": "code",
      "source": [
        "import pathlib\n",
        "import matplotlib\n",
        "import skimage\n",
        "import numpy as np\n",
        "from skimage import data, draw, io, measure\n",
        "from skimage.morphology import *\n",
        "from mpl_toolkits.mplot3d.art3d import Poly3DCollection\n",
        "from plotly.graph_objs import *\n",
        "from scipy.spatial import Delaunay\n",
        "from plotly.figure_factory import create_trisurf\n",
        "import plotly.io as pio\n",
        "import skimage.morphology as sm"
      ],
      "metadata": {
        "id": "st9jAxa5FsNd"
      },
      "execution_count": null,
      "outputs": []
    },
    {
      "cell_type": "markdown",
      "metadata": {
        "id": "Jk-iLl56eb7T"
      },
      "source": [
        "**2. Konvertierung des DICOM-Bildstapels in Binärbilder**\n",
        "\n",
        "Damit wir das Objekt und den Hintergrund besser voneinander trennen können, implementieren wir eine Funktion zur Konvertierung eines Bildes in das Binärformat anhand eines gegebenen Schwellenwertes.\n",
        "\n",
        "Der Hintergrund in CT-Dicom-Bildern zeichnet sich durch vergleichsweise niedrige Signalwerte aus, während das Untersuchungsobjekt hohe Signalwerte aufweist. Um den Hintergrund vom Objekt zu trennen, nutzen wir die binäre Konvertierung.\n",
        "\n",
        "Unsere Funktion soll die Pixel des Bildes anhand eines Vergleichs mit einem gegebenen Schwellenwert (Funktionsparameter) dem Hintergrund bzw. dem Objekt zuordnen:\n",
        "- Pixelwert < Schwellenwert: Pixel ist Hintergrundpixel\n",
        "- Pixelwert >= Schwellenwert: Pixel ist Objektpixel\n",
        "\n",
        "Wir wenden die Funktion auf alle Bilder des Stapels an und wählen einen Schwellenwert von **250**.\n",
        "\n",
        "In der Binärschreibweise gibt es nur 0 und 1, wir wollen festlegen, dass alles was kleiner als der Schwellenwert ist den Wert 0 zugewiesen bekommt und alles was größer oder gleich dem Schwellenwert ist, soll 1 sein. (0 ist schwarz, 1 ist weiß.)\n",
        "\n",
        "Die Visualisierung des Stapels soll dem aus Aufgabe 1 entsprechen.\n",
        "\n",
        "Wir erstellen eine neue Variable, in der wir den Wert des Schwellenwertes speichern. Die Variable könnte **threshold** heißen.\n",
        "Wir erstellen eine weitere Variable, welche eine Liste enthält und **binary_stack** heißen könnte.\n",
        "\n",
        "Wir schreiben eine neue Funktion **binary** und wollen dieser 2 Übergabewerte mitgeben. Diese sollen sein **image** und **threshold**.\n",
        "Diese Funktion gibt den Wert von **(image >= threshold) * 1** zurück, das ***1** ist lediglich eine Formalität und könnte in diesem Fall weggelassen werden.\n",
        "\n",
        "Das wir diese Funktion für alle Bilder anwenden wollen, benötigen wir einen **for-Loop**.  Dieser soll etwas für jedes **image** in **image_stack** tun. EsSie soll auf jedes Bild die Funktion **binary()** mit den definierten Übergabewerten angewendet werden. Danach soll das Bild zu der Liste **binary_stack** hinzugefügt werden.\n",
        "\n",
        "Wie in Aufgabe 1 wenden wir die **interact()** Funktion an, übergeben ihr aber an der 2. Stelle **image_stack=fixed(binary_stack)**."
      ]
    },
    {
      "cell_type": "code",
      "execution_count": null,
      "metadata": {
        "scrolled": false,
        "colab": {
          "referenced_widgets": [
            "820bead810ae436e9d4d3645a0790e74"
          ]
        },
        "id": "H67TuVogeb7U",
        "outputId": "2da5479d-d8e4-401c-cb46-949da47c07dd"
      },
      "outputs": [
        {
          "data": {
            "application/vnd.jupyter.widget-view+json": {
              "model_id": "820bead810ae436e9d4d3645a0790e74",
              "version_major": 2,
              "version_minor": 0
            },
            "text/plain": [
              "interactive(children=(IntSlider(value=0, continuous_update=False, description='index', max=449), Output()), _d…"
            ]
          },
          "metadata": {},
          "output_type": "display_data"
        },
        {
          "data": {
            "text/plain": [
              "<function __main__.display(index)>"
            ]
          },
          "execution_count": 4,
          "metadata": {},
          "output_type": "execute_result"
        }
      ],
      "source": [
        "# Aufgabe 2\n",
        "\n",
        "threshold = 250\n",
        "binary_stack = []\n",
        "\n",
        "def binary(image, threshold):\n",
        "    return (image >= threshold) * 1\n",
        "\n",
        "for image in image_stack:\n",
        "    binary_stack.append(to_binary(image, threshold))\n",
        "    \n",
        "interact(show_image, image_stack=fixed(binary_stack), position=stack_slider);"
      ]
    },
    {
      "cell_type": "markdown",
      "metadata": {
        "id": "dLBqVpGeeb7V"
      },
      "source": [
        "**3. Optimieren der Binärbilder**\n",
        "\n",
        "Anhand der Visualisierung in **2.** zeigt die Visualisierung, dass einige Bilder kleine Artefakte im Hintergrund oder Löcher im Objekt aufweisen.Die Kanten von Gegenständen sind manchmal sehr abgenutzt dargestellt und auf einigen Bildern erscheint der Bereich der Untersuchungsliege im Bild.\n",
        "\n",
        "Wir wollen versuchen diese *ungünstigen* Eigenschaften der Bilder auszugleichen.\n",
        "\n",
        "1. Morphologische Operationen (Erosion, Dilatation, Öffnung, Schließung) um die Kanten von Objekten zu glätten, kleine Löcher in Objekten zu schließen oder kleine Artefakte zu entfernen\n",
        "    - Hier müssen wir auf die Reihenfolge und Kombinationsmöglichkeiten achten.\n",
        "2. Wir wollen einen **globalen** Objektbereichs über ein Rechteck definieren. Alle Pixel außerhalb dieses Objektbereiches werden automatisch zum Hintergrund. Wir wenden den definierten Objektbereich auf alle Bilder des Stapels an.\n",
        "    - Beim Definieren des Objektbereichs müssen wir darauf achten, nicht versehentlich einen Teil des richtigen Objekts zu löschen.\n",
        "\n",
        "Wir erstellen eine neue Liste, in der die optimierten Bilder abgespeichert werden.\n",
        "Da wir die Funktionen auf alle Bilder in **binary_stack** anwenden wollen, benötigen wir einen **for-Loop**.\n",
        "\n",
        "`[ ] for i in range(len(binary_stack)):`\n",
        "Wir erstellen eine Variable, welche den Rahmen darstellt der mit der Dicke 6 auf den Scan angewendet wird. Dies machen wir mit der **disk()** Funktion.\n",
        "Wir möchten verschiedene Funktionen zur Verbesserung der Bilder anwenden. **erosion()** entfernt kleine weiße Löcher, **dilation** vergrößert den weißen Bereich, **closing** schließt kleine Löcher in den Objekten.\n",
        "Wir erstellen die Variable **morphed** und speichern in ihr das veränderte Bild i. i wurde verändert weil die Funktion **binary_erosion()** mit den Übergabewerten **binary[i]** und **ellipse** angewendet wird. Danach werden auf dieses Bild alle weiteren Funktionen angewendet. Ab jetzt wird immer **morphed** in der Funktion als Übergabewert übergeben, während die Variable **morphed** immer den veränderten Wert annimmt.\n",
        "*1. Schritt:*<br>\n",
        "`[ ] morphed = binary_erosion(binary[i], ellipse)`<br>\n",
        "*2. Schritt:* <br>\n",
        "`[ ] morphed = binary_dilation(morphed, ellipse)`\n",
        "\n",
        "Der Liste **morphed_stack** wird mit **append()** und dem Übergabewert **morphed** jedes veränderte Bild hinzugewiesen.\n",
        "\n",
        "Wir benötigen nun noch eine Funktion die uns das Darstellen der Bilder ermöglicht.\n",
        "Wir schreiben eine neue Funktion und übergeben ihr **index**.\n",
        "Wir benötigen **imshow** und übergeben, die Liste **morphed_stack[index]** um das entsprechende Bild aufzurufen und legen als colormap gray fest. \n",
        "\n",
        "`[ ] cmap=plt.cm.gray`\n",
        "\n",
        "In der nächsten Zeile stellen wir die Beschriftung der Achsen wieder aus und plotten danach.\n",
        "\n",
        "Wir dürfen unseren Slider auch jetzt nicht vergessen und passen ihn an der 3. Stelle der Übergabewerte erneut an. `[ ] max = len(morphed_stack)-1`\n",
        "\n",
        "Der **interact()** Funktion übergeben wir **morphological_display** und **index=slider**.\n"
      ]
    },
    {
      "cell_type": "code",
      "execution_count": null,
      "metadata": {
        "colab": {
          "referenced_widgets": [
            "84ad145a45a241d591e652dc01b0624b"
          ]
        },
        "id": "0a5lDN3heb7V",
        "outputId": "38bdc9de-5327-4b99-947b-6be0476987b0"
      },
      "outputs": [
        {
          "data": {
            "application/vnd.jupyter.widget-view+json": {
              "model_id": "84ad145a45a241d591e652dc01b0624b",
              "version_major": 2,
              "version_minor": 0
            },
            "text/plain": [
              "interactive(children=(IntSlider(value=0, continuous_update=False, description='index', max=449), Output()), _d…"
            ]
          },
          "metadata": {},
          "output_type": "display_data"
        },
        {
          "data": {
            "text/plain": [
              "<function __main__.morphological_display(index)>"
            ]
          },
          "execution_count": 8,
          "metadata": {},
          "output_type": "execute_result"
        }
      ],
      "source": [
        "morphed_stack = []\n",
        "for i in range(len(binary_stack)):\n",
        "    ellipse = disk(6)\n",
        "    morphed = binary_erosion(binary_stack[i], ellipse)\n",
        "    morphed = binary_dilation(morphed, ellipse)\n",
        "    morphed = binary_closing(morphed, ellipse)\n",
        "    morphed = binary_dilation(morphed, ellipse)\n",
        "    morphed = binary_dilation(morphed, ellipse)\n",
        "    morphed = binary_closing(morphed, ellipse)\n",
        "    morphed = binary_dilation(morphed, ellipse)\n",
        "    morphed = binary_closing(morphed, ellipse)\n",
        "    morphed_stack.append(morphed)\n",
        "    \n",
        "def morphological_display(index):\n",
        "    plt.imshow(morphed_stack[index], cmap=plt.cm.gray)\n",
        "    plt.axis(\"off\")\n",
        "    plt.show()\n",
        "    \n",
        "slider = widgets.IntSlider(value=0, min=0, max = len(morphed_stack)-1, step=1, continuous_update=False);\n",
        "interact(morphological_display, index=slider)"
      ]
    },
    {
      "cell_type": "markdown",
      "source": [
        "Wir erstellen die Liste **otimized_stack** und schreiben einen **for-Loop**, welcher über die Länge des **morphed_stack** iteriert.\n",
        "`[ ] for i in range(len(morphed_stack)):`<br>\n",
        "Der neuen Variable **optimized** wird das Bild zugewiesen welches sich in **morphed_stack** an der Stelle **[i]** befindet.<br>\n",
        "Wir erstellen eine Maske, die über die gesamte Achse gelegt wird, np.ones(shape) nimmt die Größe der optimierten List an, damit die Liste beim plotten komplett bedeckt wird.<br>\n",
        "`[ ] mask = np.ones(shape=optimized.shape[0:2], dtype= \"bool\")`<br> \n",
        "Die Maske benötigt 2 Punkte um ein Rechteck zu bilden.<br>\n",
        "`[ ] point1, point2 = skimage.draw.rectangle(start=(98, 20), end=(370, 495))`.<br>\n",
        "Die Maske, welche über den gesamten Scan geht, soll bei den Koordinaten die genau den Kopf framen, den Wert False geben. Es ist wichtig den **dtype=bool** zu definieren, damit die Maske an der Stelle des Rechtecks durchsichtig bleibt (wie ein Fenster), während alles andere (durch den Binärwert) die Farbe schwarz zugewiesen bekommt.<br>\n",
        "`[ ] mask[point1, point2] = False\n",
        "    optimized[mask] = 0\n",
        "    optimized_stack.append(optimized)`\n"
      ],
      "metadata": {
        "id": "3_bkxOyYmITc"
      }
    },
    {
      "cell_type": "code",
      "execution_count": null,
      "metadata": {
        "id": "a8el2UhCeb7W"
      },
      "outputs": [],
      "source": [
        "optimized_stack = []\n",
        "for i in range(len(morphed_stack)):\n",
        "    optimized = morphed_stack[i]\n",
        "    mask = np.ones(shape=optimized.shape[0:2], dtype= \"bool\")\n",
        "    point1, point2 = skimage.draw.rectangle(start=(98, 20), end=(370, 495))\n",
        "    mask[point1, point2] = False\n",
        "    optimized[mask] = 0\n",
        "    optimized_stack.append(optimized)"
      ]
    },
    {
      "cell_type": "markdown",
      "source": [
        "Wir definieren eine neue Funktion mit dem Übergabewert **index**. Hier wollen wir wieder **imshow()** aufrufen. Der Übergabewert an der dritten Stellen ist hier **optimized_stack[index]**, die Farbe ist **gray**, danach wird geplottet.\n",
        "\n",
        "Beim Slider wird die übliche Stelle angepasst. In die Klammer kommt nun **optimized_stack**.\n",
        "Der Aufruf der Funktion **interact()** erfolgt mit **sectionizied_display** und **index=slider** als Übergabewert."
      ],
      "metadata": {
        "id": "d7C0wUOMqQMy"
      }
    },
    {
      "cell_type": "code",
      "execution_count": null,
      "metadata": {
        "colab": {
          "referenced_widgets": [
            "17bfc60d5ce84e88b97be8f6c0a128dc"
          ]
        },
        "id": "ZzzFC0lBeb7W",
        "outputId": "a920c9cb-e1f5-4871-fed5-1d42e6c6800c"
      },
      "outputs": [
        {
          "data": {
            "application/vnd.jupyter.widget-view+json": {
              "model_id": "17bfc60d5ce84e88b97be8f6c0a128dc",
              "version_major": 2,
              "version_minor": 0
            },
            "text/plain": [
              "interactive(children=(IntSlider(value=0, continuous_update=False, description='index', max=449), Output()), _d…"
            ]
          },
          "metadata": {},
          "output_type": "display_data"
        },
        {
          "data": {
            "text/plain": [
              "<function __main__.sectionized_display(index)>"
            ]
          },
          "execution_count": 10,
          "metadata": {},
          "output_type": "execute_result"
        }
      ],
      "source": [
        "def sectionized_display(index):\n",
        "    plt.imshow(optimized_stack[index], cmap=plt.cm.gray)\n",
        "    plt.show()\n",
        "    \n",
        "slider = widgets.IntSlider(value=0,min=0, max = len(optimized_stack)-1, step=1, continuous_update=False);\n",
        "interact(sectionized_display, index=slider)"
      ]
    },
    {
      "cell_type": "markdown",
      "metadata": {
        "id": "WCWfeXe4eb7X"
      },
      "source": [
        "**4. 3D-Rekonstruktion**\n",
        "\n",
        "Basierend auf den Binärbildern aus der **3.Aufgabe** wollen wir ein 3D-Modell des Datensatzes rekonstruieren.\n",
        "\n",
        "Grundsätzlich stehen für eine Rekonstruktion verschiedene Ansätze zur Auswahl, u.a.:\n",
        "- Detektion der Außenkonturen der Objekte und anschließende Triangulation der Oberfläche (Bildung von Dreiecken).\n",
        "- Anwendung des sog. \"Marching-Cubes-Algorithmus\" (skimage-Bibliothek: measure.marching_cubes_lewiner() )\n",
        "- Konstruktion eines Volumenmodells aus den Objektvoxeln der gestapelten Schichten. \n",
        "\n",
        "Wir wollen diese Aufgabe mit dem \"Marching-Cubes-Algorithmus\" umsetzen.\n",
        "\n",
        "Wir benötigen eine neue Liste und definieren einen **for-Loop**. Der **for-Loop** läuft über jedes **optimized** in **optimized_stack**. In diesem Loop wird für jedes **otimized** der **dtype** auf **\"int\"** gesetzt.<br>\n",
        " `[ ] optimized.dtype = \"int\"`<br>\n",
        "Dann fügen wir der eben erstellten Liste das jeweilige Ergebnis zu. `[ ] plot_array.append(optimized)`\n"
      ]
    },
    {
      "cell_type": "code",
      "execution_count": null,
      "metadata": {
        "id": "ZQhs0BsCeb7X"
      },
      "outputs": [],
      "source": [
        "plot_array = []\n",
        "for optimized in optimized_stack:\n",
        "    optimized.dtype = \"int\"\n",
        "    plot_array.append(optimized)"
      ]
    },
    {
      "cell_type": "markdown",
      "source": [
        "Wir definieren eine neue Funtion namens **mesh** und übergeben ihr **images_stack** und legen die Schritte fest in denen sich bewegt werden soll. **step=1**.<br>\n",
        "In dieser Funktion erstellen wir eine neue Variable **binary_images**. <br>\n",
        "Wir wandeln die Liste **images_stack** in ein **numpy Array** um.\n",
        "Dies geschieht mit der Funktion **np.transpose()** mit **images_stack** als Übergabewert.\n",
        "Wir legen fest, dass **verts, faces, norm, val** den Werten von `[ ] measure.marching_cubes(binary_images, step_size=step, allow_degenerate=True)` entsprechen.<br>\n",
        " **measure.marching_cubes()** ist eine Funktion die festlegt wie unsere 3D Darstellung generiert wird.\n",
        "Die Rückgabewerte dieser Funktion sind **verts** und **faces**."
      ],
      "metadata": {
        "id": "mXOl3TW0sfyq"
      }
    },
    {
      "cell_type": "code",
      "execution_count": null,
      "metadata": {
        "id": "9w4-skx5eb7Y"
      },
      "outputs": [],
      "source": [
        "def mesh(images_stack, step=1):\n",
        "    binary_images = np.transpose(images_stack)\n",
        "    verts, faces, norm, val = measure.marching_cubes(binary_images, step_size=step, allow_degenerate=True) \n",
        "    return verts, faces"
      ]
    },
    {
      "cell_type": "markdown",
      "source": [
        "An dieser Stelle müsen wir festlegen wie unsere Darstellung aussehen soll.<br>\n",
        "Wir erstellen eine neue Funktion **threeD_display** mit den Übergabewerten **verts** und **faces**.<br>\n",
        "Wir erstellen in einer Zeile die Variablen x, y, z welche alle die Werte der Funktion **zip()** zugewiesen bekommen. Diese Funktion bekommt die Übergabewerte ***verts**.\n",
        "Es muss die figure festgelegt werden. Das kennen wir schon aus der ersten Aufgabe und können das hier nun genauso machen.<br>\n",
        "Nachdem wir das erledigt haben, erstellen wir die Variable **ax**. An dieser Stelle fügen wir subplots hinzu<br>\n",
        " `[ ] figure.add_subplot(111, projection='3d')`.<br>\n",
        "Die nächste Variable die wir benötigen ist **mesh**.<br>\n",
        "`[ ] mesh = Poly3DCollection(verts[faces], linewidths=0.05, alpha=1)`<br>\n",
        "Wir benötigen nun noch Angaben für die Variable **face_color**.<br> Diese sollten sein **[1, 1, 0.9]**.\n",
        "Wir wollen nun auf **mesh** die Funktion **set_facecolor()** anwenden, um die **face_color** auf das mesh zu übertragen. <br>\n",
        "Demzufolge muss der Übergabeparameter auch **face_color** sein.\n",
        "Auf die Variable **ax** wenden wir die Funktion **add_collection3d()** an und übergeben **mesh**.\n",
        "\n",
        "Desweiteren setzen wir für ax die Limits für x, y, und z. Für x sieht das so aus: `[ ] ax.set_xlim(0, max(x))`, vervollständige das für die anderen beiden selbstständig.\n",
        "Bevor wir plotten können, müssen wir auch für **ax** die facecolor festlegen.<br>\n",
        "`[ ] ax.set_facecolor((0.7, 0.7, 0.7))`<br>\n",
        "Danach können wir plotten.\n",
        "\n",
        "Nachdem wir unsere Funktion fertiggestellt haben, weisen wir den neuen Variablen **v** und **f** auf einer Zeile die Werte aus **mesh(plot_array)** zu.\n",
        "Wir rufen jetzt die Funktion die wir gerade geschrieben haben auf und übergeben ihr **v** und **f**. Diese stehen für **verts** und **faces**, welche wir bei der Erstellung der Funktion als Übergabewerte festgelegt haben.\n"
      ],
      "metadata": {
        "id": "lSg2iQ2TuPzr"
      }
    },
    {
      "cell_type": "code",
      "execution_count": null,
      "metadata": {
        "id": "KdVleUXVeb7a"
      },
      "outputs": [],
      "source": [
        "def threeD_display(verts, faces):\n",
        "    x,y,z = zip(*verts) \n",
        "    figure = plt.figure(figsize=(10, 10))\n",
        "    ax = figure.add_subplot(111, projection='3d')\n",
        "    mesh = Poly3DCollection(verts[faces], linewidths=0.05, alpha=1)\n",
        "    face_color = [1, 1, 0.9]\n",
        "    mesh.set_facecolor(face_color)\n",
        "    ax.add_collection3d(mesh)\n",
        "\n",
        "    ax.set_xlim(0, max(x))\n",
        "    ax.set_ylim(0, max(y))\n",
        "    ax.set_zlim(0, max(z))\n",
        "    ax.set_facecolor((0.7, 0.7, 0.7))\n",
        "    plt.show()"
      ]
    },
    {
      "cell_type": "code",
      "execution_count": null,
      "metadata": {
        "id": "v0MELN5Peb7a"
      },
      "outputs": [],
      "source": [
        "v, f = mesh(plot_array) # für normales 3d\n",
        "threeD_display(v, f)"
      ]
    },
    {
      "cell_type": "markdown",
      "metadata": {
        "id": "eD-pxMSjeb7a"
      },
      "source": [
        "**5. Interaktivität**\n",
        "\n",
        "Um unser 3D-Modell interaktiv zu gestalten und eine Rotation zu ermöglichen, gehen wir wie folgt vor.\n",
        "\n",
        "Wir erstellen eine neue Funktion mit den Übergabewerten **verts** und **faces**.\n",
        "In dieser Funktion weisen wir den Variablen **x,y,z** die Werte von der Ergebnisse der Funktion **zip()** mit dem Übergabewert ***verts** zu.\n",
        "Der Variablen **colormap** weisen wir die Farben zu die wir nutzen wollen.<br>\n",
        "`[ ] colormap=['rgb(236, 236, 212)','rgb(236, 236, 212)']`<br>\n",
        "Der Variablen **fig** weisen wir die Werte der Funktion **create_trisurf()** zu. Die Übergabewerte kannst du folgendenem Codesnippet entnehmen:<br>\n",
        "`[ ] fig = create_trisurf(x=x, y=y, z=z, plot_edges=False, colormap=colormap, simplices=faces, backgroundcolor='rgb(64, 64, 64)')`\n",
        "Anschließend plotten wir mit:<br>\n",
        "`[ ] pio.show(fig)`<br>\n",
        "Wir plotten hier mit der Funktion **show()** aus der **plotly** Bibliothek, diese haben wir am Anfang importiert und **pio** genannt.\n",
        "\n",
        "Da unsere Funktion fertig ist legen wir wieder Werte für **v** und **f** fest. Diese sind dieses Mal die Ergebnisse aus `[ ] mesh(plot_array, 2)`\n",
        "Es golgt der Aufruf der Funktion mit den Übergabewerten **v,f**.\n",
        "\n",
        "\n"
      ]
    },
    {
      "cell_type": "code",
      "execution_count": null,
      "metadata": {
        "id": "LwrKUDzjeb7a"
      },
      "outputs": [],
      "source": [
        "def threeD_interactive_display(verts, faces):\n",
        "    x,y,z = zip(*verts) \n",
        "    colormap=['rgb(236, 236, 212)','rgb(236, 236, 212)']\n",
        "    fig = create_trisurf(x=x, y=y, z=z, plot_edges=False, colormap=colormap, simplices=faces, backgroundcolor='rgb(64, 64, 64)')\n",
        "    pio.show(fig)"
      ]
    },
    {
      "cell_type": "code",
      "execution_count": null,
      "metadata": {
        "id": "ACe7EPn7eb7a"
      },
      "outputs": [],
      "source": [
        "v, f = mesh(plot_array, 2) \n",
        "threeD_interactive_display(v, f)"
      ]
    },
    {
      "cell_type": "markdown",
      "source": [
        "**Herzlichen Glückwunsch!**\n",
        "\n",
        "Du bist nun am Ende des Workshops angekommen, wir hoffen es hat dir Spaß gemacht und dir gefallen deine Ergebnisse."
      ],
      "metadata": {
        "id": "O-QbqugiHIzv"
      }
    }
  ],
  "metadata": {
    "anaconda-cloud": {},
    "kernelspec": {
      "display_name": "Python 3 (ipykernel)",
      "language": "python",
      "name": "python3"
    },
    "language_info": {
      "codemirror_mode": {
        "name": "ipython",
        "version": 3
      },
      "file_extension": ".py",
      "mimetype": "text/x-python",
      "name": "python",
      "nbconvert_exporter": "python",
      "pygments_lexer": "ipython3",
      "version": "3.9.6"
    },
    "colab": {
      "name": "3D-Visualisierung.ipynb",
      "provenance": [],
      "collapsed_sections": []
    }
  },
  "nbformat": 4,
  "nbformat_minor": 0
}